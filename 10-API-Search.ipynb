{
 "cells": [
  {
   "cell_type": "markdown",
   "id": "66ab3cc5-aee4-415a-9391-1e5d37ccaf1d",
   "metadata": {},
   "source": [
    "# Skill 5: API Search - Make our bot to talk to any API"
   ]
  },
  {
   "cell_type": "markdown",
   "id": "306fc0a9-4044-441d-9ba7-f54f32e6ea9f",
   "metadata": {},
   "source": [
    "We have observed the remarkable synergy created by combining **OpenAI llms with intelligent agents and detailed prompts**. This powerful combination has consistently delivered impressive results. To further capitalize on this capability, we should aim to integrate it with various systems through API communication. Essentially, we can develop within this notebook what is referred to in OpenAI's ChatGPT as 'GPTs.'\n",
    "\n",
    "Envision a bot that seamlessly integrates with:\n",
    "\n",
    "- **CRM Systems:** Including Dynamics, Salesforce, and HubSpot.\n",
    "- **ERP Systems:** Such as SAP, Dynamics, and Oracle.\n",
    "- **CMS Systems:** Including Adobe, Oracle, and other content management platforms.\n",
    "\n",
    "The objective is to connect our bot with data repositories, minimizing data duplication as much as possible. These systems typically offer APIs, facilitating programmatic data access.\n",
    "\n",
    "In this notebook, we plan to develop an agent capable of querying an API to retrieve information and effectively answer questions.\n",
    "This time we are going to use an open API for currency and digital coins pricing: https://docs.kraken.com/rest/#tag/Market-Data"
   ]
  },
  {
   "cell_type": "code",
   "execution_count": 1,
   "id": "c1fb79a3-4856-4721-988c-112813690a90",
   "metadata": {
    "tags": []
   },
   "outputs": [],
   "source": [
    "import os\n",
    "import json\n",
    "import requests\n",
    "from pydantic import BaseModel \n",
    "\n",
    "from langchain_openai import AzureChatOpenAI\n",
    "from langchain_core.tools import BaseTool, StructuredTool\n",
    "from langchain_community.agent_toolkits.openapi.toolkit import RequestsToolkit\n",
    "from langchain_community.utilities.requests import RequestsWrapper, TextRequestsWrapper\n",
    "\n",
    "from langgraph.prebuilt import create_react_agent\n",
    "\n",
    "from common.utils import num_tokens_from_string, reduce_openapi_spec\n",
    "from common.prompts import APISEARCH_PROMPT_TEXT\n",
    "\n",
    "from IPython.display import Markdown, HTML, display  \n",
    "\n",
    "from dotenv import load_dotenv\n",
    "load_dotenv(\"credentials.env\")\n",
    "\n",
    "def printmd(string):\n",
    "    display(Markdown(string.replace(\"$\",\"USD \")))\n"
   ]
  },
  {
   "cell_type": "code",
   "execution_count": 2,
   "id": "258a6e99-2d4f-4147-b8ee-c64c85296181",
   "metadata": {
    "tags": []
   },
   "outputs": [],
   "source": [
    "# Set the ENV variables that Langchain needs to connect to Azure OpenAI\n",
    "os.environ[\"OPENAI_API_VERSION\"] = os.environ[\"AZURE_OPENAI_API_VERSION\"]"
   ]
  },
  {
   "cell_type": "code",
   "execution_count": 3,
   "id": "9d3daf03-77e2-466e-a255-2f06bee3561b",
   "metadata": {
    "tags": []
   },
   "outputs": [],
   "source": [
    "COMPLETION_TOKENS = 2000\n",
    "\n",
    "# This notebook needs GPT-4-Turbo (context size of 128k tokens)\n",
    "llm = AzureChatOpenAI(deployment_name=os.environ[\"GPT4o_DEPLOYMENT_NAME\"], \n",
    "                      temperature=0.5, max_tokens=COMPLETION_TOKENS, \n",
    "                      streaming=True)"
   ]
  },
  {
   "cell_type": "markdown",
   "id": "9cc03401-a5a9-455b-bf17-07da2005e61f",
   "metadata": {},
   "source": [
    "## The Logic"
   ]
  },
  {
   "cell_type": "markdown",
   "id": "ebe42eda-3e74-4114-bd25-2473593cc1b4",
   "metadata": {},
   "source": [
    "By now, you must infer that the solution for an API Agent has to be something like: give the API specification as part of the system prompt to the LLM , then let a graph agent plan for the right steps to formulate the API calls.<br>\n",
    "\n",
    "Let's do that. But we must first understand the industry standards of Swagger/OpenAPI\n"
   ]
  },
  {
   "cell_type": "markdown",
   "id": "1e8e0b32-a6b5-4b1c-943d-e57b737213fa",
   "metadata": {},
   "source": [
    "## Introduction to OpenAPI (formerly Swagger)"
   ]
  },
  {
   "cell_type": "markdown",
   "id": "003327ac-2851-48ef-8a6b-2d8c2004bb2e",
   "metadata": {},
   "source": [
    "The OpenAPI Specification, previously known as the Swagger Specification, is a specification for a machine-readable interface definition language for describing, producing, consuming and visualizing web services. Previously part of the Swagger framework, it became a separate project in 2016, overseen by the OpenAPI Initiative, an open-source collaboration project of the Linux Foundation.\n",
    "\n",
    "OpenAPI Specification is an API description format for REST APIs. An OpenAPI file allows you to describe your entire API, including: Available endpoints (/users for example) and operations on each endpoint ( GET /users, POST /users), description, contact information, license, terms of use and other information."
   ]
  },
  {
   "cell_type": "markdown",
   "id": "a1902af5-f889-4bcf-85e0-1b601bd2ce47",
   "metadata": {},
   "source": [
    "### Let's get the OpenAPI (Swagger) spec from our desired API that we want to talk to\n",
    "You can also download it from the Kraken website: https://docs.kraken.com/rest/"
   ]
  },
  {
   "cell_type": "markdown",
   "id": "dd3cab16-e71d-4652-ab27-7b0704365454",
   "metadata": {},
   "source": [
    "Let's see how big is this API specification:"
   ]
  },
  {
   "cell_type": "code",
   "execution_count": 4,
   "id": "03e6ab7d-4493-466e-8771-21e75381b986",
   "metadata": {
    "tags": []
   },
   "outputs": [],
   "source": [
    "LOCAL_FILE_PATH = \"./data/openapi_kraken.json\""
   ]
  },
  {
   "cell_type": "code",
   "execution_count": 5,
   "id": "e4c2e7ca-a9ed-446f-b4db-b8d558f7e1d9",
   "metadata": {
    "tags": []
   },
   "outputs": [],
   "source": [
    "# Open and read the JSON file\n",
    "with open(LOCAL_FILE_PATH, 'r') as file:\n",
    "    spec = json.load(file)"
   ]
  },
  {
   "cell_type": "code",
   "execution_count": 6,
   "id": "94503afc-c398-458a-b369-610c5dbe682d",
   "metadata": {
    "tags": []
   },
   "outputs": [],
   "source": [
    "# You can check the function \"reduce_openapi_spec()\" in utils.py\n",
    "reduced_api_spec = reduce_openapi_spec(spec)"
   ]
  },
  {
   "cell_type": "code",
   "execution_count": 7,
   "id": "57d77e9b-6f3f-4ec4-bc01-baac18984937",
   "metadata": {
    "tags": []
   },
   "outputs": [
    {
     "name": "stdout",
     "output_type": "stream",
     "text": [
      "API spec size in tokens: 66625\n",
      "Reduced API spec size in tokens: 57394\n"
     ]
    }
   ],
   "source": [
    "api_tokens = num_tokens_from_string(str(spec))\n",
    "print(\"API spec size in tokens:\",api_tokens)\n",
    "api_tokens = num_tokens_from_string(str(reduced_api_spec))\n",
    "print(\"Reduced API spec size in tokens:\",api_tokens)"
   ]
  },
  {
   "cell_type": "markdown",
   "id": "d8b95356-587d-43ca-982f-500779078482",
   "metadata": {},
   "source": [
    "Sometimes it makes sense to reduce the size of the API Specs by using the `reduce_openapi_spec` function. It's optional."
   ]
  },
  {
   "cell_type": "markdown",
   "id": "cd8c3b3e-959e-4b19-b34d-66de3501b1b1",
   "metadata": {},
   "source": [
    "#### NOTE: As you can see, a large context LLM is needed. `GPT4` or newer models are necessary for this notebook to run succesfully."
   ]
  },
  {
   "cell_type": "markdown",
   "id": "9a945386-39eb-405d-9310-3b67c9af77bb",
   "metadata": {},
   "source": [
    "### Define Tools"
   ]
  },
  {
   "cell_type": "code",
   "execution_count": 8,
   "id": "ef8b7f43-86ac-4c51-84a5-395c1f2c6db6",
   "metadata": {
    "tags": []
   },
   "outputs": [],
   "source": [
    "# Most of APIs require Authorization tokens, so we construct the headers using a lightweight python request wrapper called RequestsWrapper\n",
    "access_token = \"ABCDEFG123456\" \n",
    "headers = {\"Authorization\": f\"Bearer {access_token}\"}\n",
    "requests_wrapper = RequestsWrapper(headers=headers)\n",
    "\n",
    "toolkit = RequestsToolkit(\n",
    "    requests_wrapper=RequestsWrapper(headers=headers),\n",
    "    allow_dangerous_requests=True,\n",
    ")"
   ]
  },
  {
   "cell_type": "code",
   "execution_count": 9,
   "id": "8475a4a3-48b3-476b-b900-49840e21e463",
   "metadata": {
    "tags": []
   },
   "outputs": [
    {
     "data": {
      "text/plain": [
       "[RequestsGetTool(requests_wrapper=TextRequestsWrapper(headers={'Authorization': 'Bearer ABCDEFG123456'}, aiosession=None, auth=None, response_content_type='text', verify=True), allow_dangerous_requests=True),\n",
       " RequestsPostTool(requests_wrapper=TextRequestsWrapper(headers={'Authorization': 'Bearer ABCDEFG123456'}, aiosession=None, auth=None, response_content_type='text', verify=True), allow_dangerous_requests=True),\n",
       " RequestsPatchTool(requests_wrapper=TextRequestsWrapper(headers={'Authorization': 'Bearer ABCDEFG123456'}, aiosession=None, auth=None, response_content_type='text', verify=True), allow_dangerous_requests=True),\n",
       " RequestsPutTool(requests_wrapper=TextRequestsWrapper(headers={'Authorization': 'Bearer ABCDEFG123456'}, aiosession=None, auth=None, response_content_type='text', verify=True), allow_dangerous_requests=True),\n",
       " RequestsDeleteTool(requests_wrapper=TextRequestsWrapper(headers={'Authorization': 'Bearer ABCDEFG123456'}, aiosession=None, auth=None, response_content_type='text', verify=True), allow_dangerous_requests=True)]"
      ]
     },
     "execution_count": 9,
     "metadata": {},
     "output_type": "execute_result"
    }
   ],
   "source": [
    "toolkit.get_tools()"
   ]
  },
  {
   "cell_type": "code",
   "execution_count": 10,
   "id": "2b536301-3835-4ce0-84e2-4012973b12d1",
   "metadata": {
    "tags": []
   },
   "outputs": [],
   "source": [
    "tools = toolkit.get_tools()"
   ]
  },
  {
   "cell_type": "markdown",
   "id": "b0f4d6a2-2678-4e19-b070-b0a8028bde72",
   "metadata": {},
   "source": [
    "### Define Prompt"
   ]
  },
  {
   "cell_type": "code",
   "execution_count": 12,
   "id": "38b3972b-beca-4068-85c0-a7cda0ded894",
   "metadata": {
    "tags": []
   },
   "outputs": [
    {
     "data": {
      "text/markdown": [
       "\n",
       "\n",
       "## Source of Information\n",
       "- You have access to an API to help answer user queries.\n",
       "- Here is documentation on the API: {api_spec}\n",
       "\n",
       "## On how to use the Tools\n",
       "- You are an agent designed to connect to RestFul APIs.\n",
       "- Given API documentation above, use the right tools to connect to the API.\n",
       "- **ALWAYS** before giving the Final Answer, try another method if available. Then reflect on the answers of the two methods you did and ask yourself if it answers correctly the original question. If you are not sure, try another method.\n",
       "- If you are sure of the correct answer, create a beautiful and thorough response using Markdown.\n",
       "- **DO NOT MAKE UP AN ANSWER OR USE Pre-Existing KNOWLEDGE, ONLY USE THE RESULTS OF THE CALCULATIONS YOU HAVE DONE**. \n",
       "- Only use the output of your code to answer the question. \n"
      ],
      "text/plain": [
       "<IPython.core.display.Markdown object>"
      ]
     },
     "metadata": {},
     "output_type": "display_data"
    }
   ],
   "source": [
    "printmd(APISEARCH_PROMPT_TEXT)"
   ]
  },
  {
   "cell_type": "markdown",
   "id": "82cc97fa-5184-4d43-9b36-a66c04f73a3b",
   "metadata": {
    "tags": []
   },
   "source": [
    "### Create Graph"
   ]
  },
  {
   "cell_type": "code",
   "execution_count": 13,
   "id": "97432e39-965f-4eb1-8dfa-55cdfef5e541",
   "metadata": {
    "tags": []
   },
   "outputs": [],
   "source": [
    "graph = create_react_agent(llm, tools, state_modifier=APISEARCH_PROMPT_TEXT.format(api_spec=reduced_api_spec))"
   ]
  },
  {
   "cell_type": "markdown",
   "id": "24fa45b2-dd42-485b-b77b-ca66fb223e4f",
   "metadata": {},
   "source": [
    "### Run the Graph"
   ]
  },
  {
   "cell_type": "code",
   "execution_count": 14,
   "id": "659d4b36-ca54-4505-aab8-8f6534448408",
   "metadata": {
    "tags": []
   },
   "outputs": [],
   "source": [
    "async def stream_graph_updates_async(graph, user_input: str):\n",
    "    inputs = {\"messages\": [(\"human\", user_input)]}\n",
    "\n",
    "    async for event in graph.astream_events(inputs, version=\"v2\"):\n",
    "        if (event[\"event\"] == \"on_chat_model_stream\"):\n",
    "            # Print the content of the chunk progressively\n",
    "            print(event[\"data\"][\"chunk\"].content, end=\"\", flush=True)\n",
    "        elif (event[\"event\"] == \"on_tool_start\"  ):\n",
    "            print(\"\\n--\")\n",
    "            print(f\"Calling tool: {event['name']} with inputs: {event['data'].get('input')}\")\n",
    "            print(\"--\")"
   ]
  },
  {
   "cell_type": "code",
   "execution_count": 15,
   "id": "d020b5de-7ebe-4fb9-9b71-f6c71956149d",
   "metadata": {
    "tags": []
   },
   "outputs": [],
   "source": [
    "QUESTION = \"\"\"\n",
    "Tell me the price of bitcoin against USD , also the latest OHLC values for Ethereum,\n",
    "also me also the bid and ask for Euro\n",
    "\"\"\""
   ]
  },
  {
   "cell_type": "code",
   "execution_count": 16,
   "id": "fabda1d0-7050-4871-b155-5be9e24a24ff",
   "metadata": {
    "tags": []
   },
   "outputs": [
    {
     "name": "stdout",
     "output_type": "stream",
     "text": [
      "\n",
      "--\n",
      "Calling tool: requests_get with inputs: {'url': 'https://api.kraken.com/0/public/Ticker?pair=XXBTZUSD'}\n",
      "--\n",
      "\n",
      "--\n",
      "Calling tool: requests_get with inputs: {'url': 'https://api.kraken.com/0/public/OHLC?pair=XETHZUSD'}\n",
      "--\n",
      "\n",
      "--\n",
      "Calling tool: requests_get with inputs: {'url': 'https://api.kraken.com/0/public/Depth?pair=ZEURZUSD'}\n",
      "--\n",
      "Here's the latest information for Bitcoin, Ethereum, and Euro:\n",
      "\n",
      "### Bitcoin (BTC) against USD\n",
      "- **Current Price:** $97,045.00\n",
      "- **Last Trade Closed:** 0.00040213 BTC at $97,045.00\n",
      "\n",
      "### Ethereum (ETH) OHLC Values (Latest)\n",
      "- **Open:** $3,417.33\n",
      "- **High:** $3,417.71\n",
      "- **Low:** $3,416.70\n",
      "- **Close:** $3,416.70\n",
      "\n",
      "### Euro (EUR) against USD\n",
      "- **Best Bid:** 1.03560 (18,345.633 units)\n",
      "- **Best Ask:** 1.03570 (1,930.447 units)\n",
      "\n",
      "If you have any further questions or need additional details, feel free to ask!"
     ]
    }
   ],
   "source": [
    "await stream_graph_updates_async(graph, QUESTION)"
   ]
  },
  {
   "cell_type": "markdown",
   "id": "73027201-d6e2-4aa0-a480-934c53ae4eb8",
   "metadata": {},
   "source": [
    "**Great!!** we have now an API Agent, capable of reasoning until it can find the answer given an API documentation."
   ]
  },
  {
   "cell_type": "markdown",
   "id": "e9ba3e35-8021-4262-8494-d1aee3862f7e",
   "metadata": {},
   "source": [
    "## Simple APIs\n",
    "\n",
    "What happens if the API is quite basic, meaning it's just a simple endpoint without a Swagger/OpenAPI definition? Let’s consider the following example:\n",
    "\n",
    "[CountdownAPI](https://www.countdownapi.com/) is a streamlined version of the eBay API, available as a paid service. We can test it using their demo query, which does not require any Swagger or OpenAPI specification. In this scenario, our main task is to create a tool that retrieves the results. We then pass these results to an agent for analysis, providing answers to user queries, similar to our approach with the Bing Search agent.\n",
    "\n",
    "In the example below, there is no API specification, but the response from the API is rather lengthy."
   ]
  },
  {
   "cell_type": "code",
   "execution_count": 17,
   "id": "9782fafa-9453-46be-b9d7-b33088f61ac8",
   "metadata": {
    "tags": []
   },
   "outputs": [
    {
     "name": "stdout",
     "output_type": "stream",
     "text": [
      "Token count: 18296 \n",
      "\n",
      "{\"request_info\": {\"success\": true, \"demo\": true}, \"request_parameters\": {\"type\": \"search\", \"ebay_domain\": \"ebay.com\", \"search_term\": \"memory cards\"}, \"request_metadata\": {\"ebay_url\": \"https://www.ebay.com/sch/i.html?_nkw=memory+cards&_sacat=0&_dmd=1&_fcid=1\"}, \"search_results\": [{\"position\": 1, \"title\": \"Micro SD Memory Card High Speed 1-100PCS Lot 512MB 8GB 16GB 32GB 64GB TF SD Card\", \"epid\": \"267022412731\", \"link\": \"https://www.ebay.com/itm/267022412731\", \"image\": \"https://i.ebayimg.com/images/g/YzsAAOSw2HVnB0e3/s-l500.jpg\", \"condition\": \"Brand New\", \"seller_info\": {\"name\": \"koohome\", \"review_count\": 16143, \"positive_feedback_percent\": 99}, \"is_auction\": false, \"buy_it_now\": true, \"free_returns\": true, \"sponsored\": true, \"prices\": [{\"value\": 3.59, \"raw\": \"$3.59\"}, {\"value\": 153, \"raw\": \"$153.00\"}], \"price\": {\"value\": 3.59, \"raw\": \"$3.59\"}}, {\"position\": 2, \"title\": \"1-10PAck 32GB 64GB 128GB 256GB 512GB Ultra Micro SD Class 10 TF Memory Card LOT\", \"epid\": \"355594669504\", \"link\": \"https://www.ebay.com/itm/355594669504\", \"image\": \"https://i.ebayimg.com/images/g/mdgAAOSwUjhmrftY/s-l500.jpg\", \"condition\": \"Brand New\", \"seller_info\": {\"name\": \"watercresstt\", \"review_count\": 377, \"positive_feedback_percent\": 99.7}, \"is_auction\": false, \"buy_it_now\": true, \"free_returns\": false, \"sponsored\": true, \"prices\": [{\"value\": 8.98, \"raw\": \"$8.98\"}, {\"value\": 155.98, \"raw\": \"$155.98\"}], \"price\": {\"value\": 8.98, \"raw\": \"$8.98\"}}, {\"position\": 3, \"title\": \"Gigastone 16GB SD Card 5-Pack, Memory Card for Cameras Full HD Video SDHC U1 C10\", \"epid\": \"313275625994\", \"link\": \"https://www.ebay.com/itm/313275625994\", \"image\": \"https://i.ebayimg.com/images/g/YfsAAOSw1GBfmGB0/s-l140.jpg\", \"condition\": \"Brand New\", \"seller_info\": {\"name\": \"gigastoneadmin\", \"review_count\": 3172, \"positive_feedback_percent\": 99.1}, \"is_auction\": false, \"buy_it_now\": true, \"free_returns\": true, \"rating\": 5, \"ratings_total\": 2, \"sponsored\": true, \"prices\": [{\"value\": 38.98, \"raw\": \"$38.98\"}], \"price\": {\"value\": 38 ...\n"
     ]
    }
   ],
   "source": [
    "# set up the request parameters\n",
    "params = {\n",
    "  'api_key': 'demo',\n",
    "  'type': 'search',\n",
    "  'ebay_domain': 'ebay.com',\n",
    "  'search_term': 'memory cards'\n",
    "}\n",
    "\n",
    "# make the http GET request to Countdown API\n",
    "api_result = requests.get('https://api.countdownapi.com/request', params)\n",
    "\n",
    "num_tokens = num_tokens_from_string(str(api_result.json())) # this is a custom function we created in common/utils.py\n",
    "print(\"Token count:\",num_tokens,\"\\n\")  \n",
    "\n",
    "# print the first 2000 characters of JSON response from Countdown API\n",
    "print(json.dumps(api_result.json())[:2000], \"...\")"
   ]
  },
  {
   "cell_type": "markdown",
   "id": "57cf8aaa-9a16-48ad-9846-bbacec82d52f",
   "metadata": {},
   "source": [
    "So, the answer from this product query (the demo only works with 'memory cards' - you will need to sign up for their trial if you want to try any query with an API key), is about ~17k tokens. When combined with the prompt, we won't have any other option than to use GPT-4 models. "
   ]
  },
  {
   "cell_type": "markdown",
   "id": "a7280427-688a-45c4-bf98-d1d392cdfe9c",
   "metadata": {},
   "source": [
    "### Define a custom tool to call the API endpoint"
   ]
  },
  {
   "cell_type": "code",
   "execution_count": 19,
   "id": "67c51a32-13f5-4802-84cd-ce40b397cb1b",
   "metadata": {
    "tags": []
   },
   "outputs": [],
   "source": [
    "class MySimpleAPISearch(BaseTool):\n",
    "    \"\"\"Tool for simple API calls that doesn't require OpenAPI 3.0 specs\"\"\"\n",
    "    \n",
    "    name:str = \"apisearch\"\n",
    "    description:str = \"useful when the questions includes the term: apisearch.\\n\"\n",
    "\n",
    "    api_key: str\n",
    "    \n",
    "    def _run(self, query: str) -> str:\n",
    "        \n",
    "        params = {\n",
    "          'api_key': self.api_key,\n",
    "          'type': 'search',\n",
    "          'ebay_domain': 'ebay.com',\n",
    "          'search_term': query\n",
    "        }\n",
    "\n",
    "        # make the http GET request to Countdown API\n",
    "        api_result = requests.get('https://api.countdownapi.com/request', params)\n",
    "        \n",
    "        try:\n",
    "            response = json.dumps(api_result.json())\n",
    "        except Exception as e:\n",
    "            response = e\n",
    "        \n",
    "        return response\n",
    "            \n",
    "    async def _arun(self, query: str) -> str:\n",
    "        \"\"\"Use the tool asynchronously.\"\"\"\n",
    "        raise NotImplementedError(\"This Tool does not support async\")"
   ]
  },
  {
   "cell_type": "code",
   "execution_count": 20,
   "id": "c0daa409-a196-4eae-aaac-b4545d0e3280",
   "metadata": {
    "tags": []
   },
   "outputs": [],
   "source": [
    "tools = [MySimpleAPISearch(api_key='demo')]\n",
    "graph = create_react_agent(llm, tools, state_modifier=APISEARCH_PROMPT_TEXT.format(api_spec=\"API provided by the tool\"))"
   ]
  },
  {
   "cell_type": "markdown",
   "id": "c6a0f773-7957-469a-a8bc-911a68ce0b98",
   "metadata": {},
   "source": [
    "This time let's use the .stream() method "
   ]
  },
  {
   "cell_type": "code",
   "execution_count": 21,
   "id": "64d77691-e29a-45b2-a045-da755d9c7d8b",
   "metadata": {
    "tags": []
   },
   "outputs": [],
   "source": [
    "QUESTION = 'what is the price for SanDisk \"memory cards\"? give me the links please'"
   ]
  },
  {
   "cell_type": "code",
   "execution_count": 22,
   "id": "71a1d824-7257-4a6b-8b0c-cd5176136ac7",
   "metadata": {
    "tags": []
   },
   "outputs": [],
   "source": [
    "def print_stream(stream):\n",
    "    for s in stream:\n",
    "        message = s[\"messages\"][-1]\n",
    "        if isinstance(message, tuple):\n",
    "            print(message)\n",
    "        else:\n",
    "            message.pretty_print()"
   ]
  },
  {
   "cell_type": "code",
   "execution_count": 23,
   "id": "64fa79ee-9a50-4ddf-a87e-c0c28615ce4e",
   "metadata": {
    "tags": []
   },
   "outputs": [
    {
     "name": "stdout",
     "output_type": "stream",
     "text": [
      "================================\u001b[1m Human Message \u001b[0m=================================\n",
      "\n",
      "what is the price for SanDisk \"memory cards\"? give me the links please\n",
      "==================================\u001b[1m Ai Message \u001b[0m==================================\n",
      "Tool Calls:\n",
      "  apisearch (call_2WWrVaTXYd8snPwqaNB9ep5R)\n",
      " Call ID: call_2WWrVaTXYd8snPwqaNB9ep5R\n",
      "  Args:\n",
      "    query: SanDisk memory cards\n",
      "=================================\u001b[1m Tool Message \u001b[0m=================================\n",
      "Name: apisearch\n",
      "\n",
      "{\"request_info\": {\"success\": true, \"demo\": true}, \"request_parameters\": {\"type\": \"search\", \"ebay_domain\": \"ebay.com\", \"search_term\": \"SanDisk memory cards\"}, \"request_metadata\": {\"ebay_url\": \"https://www.ebay.com/sch/i.html?_nkw=SanDisk+memory+cards&_sacat=0&_dmd=1&_fcid=1\"}, \"search_results\": [{\"position\": 1, \"title\": \"Pack of 10 Genuine SanDisk 16GB Class 4 SD SDHC Flash Memory Card SDSDB-016G lot\", \"epid\": \"405071797164\", \"link\": \"https://www.ebay.com/itm/405071797164\", \"image\": \"https://i.ebayimg.com/images/g/lFMAAOSwjRVnRwBc/s-l500.jpg\", \"condition\": \"Open Box\", \"seller_info\": {\"name\": \"memory561\", \"review_count\": 107266, \"positive_feedback_percent\": 99.6}, \"is_auction\": false, \"buy_it_now\": true, \"free_returns\": true, \"rating\": 5, \"ratings_total\": 587, \"sponsored\": true, \"prices\": [{\"value\": 39.97, \"raw\": \"$39.97\"}], \"price\": {\"value\": 39.97, \"raw\": \"$39.97\"}}, {\"position\": 2, \"title\": \"SanDisk 32GB Extreme C10 V30 UHS-I U3 SD 100MBs SDHC Memory card Pack of 5 Lot\", \"epid\": \"195435460588\", \"link\": \"https://www.ebay.com/itm/195435460588\", \"image\": \"https://i.ebayimg.com/images/g/BOMAAOSwBRVjWTcJ/s-l500.jpg\", \"condition\": \"Brand New\", \"seller_info\": {\"name\": \"firstchoiceonline\", \"review_count\": 56023, \"positive_feedback_percent\": 99.1}, \"is_auction\": false, \"buy_it_now\": true, \"free_returns\": true, \"rating\": 5, \"ratings_total\": 27, \"sponsored\": true, \"prices\": [{\"value\": 42.49, \"raw\": \"$42.49\"}], \"price\": {\"value\": 42.49, \"raw\": \"$42.49\"}}, {\"position\": 3, \"title\": \"Sandisk SD Extreme PRO 32GB 64GB 128GB 256GB 512GB 1TB Memory Card Nikon Canon\", \"epid\": \"204440376680\", \"link\": \"https://www.ebay.com/itm/204440376680\", \"image\": \"https://i.ebayimg.com/images/g/fvoAAOSwKytlTAQz/s-l140.jpg\", \"condition\": \"Brand New\", \"seller_info\": {\"name\": \"terashack\", \"review_count\": 63746, \"positive_feedback_percent\": 99.9}, \"is_auction\": false, \"buy_it_now\": true, \"free_returns\": true, \"sponsored\": true, \"prices\": [{\"value\": 19.99, \"raw\": \"$19.99\"}, {\"value\": 527.99, \"raw\": \"$527.99\"}], \"price\": {\"value\": 19.99, \"raw\": \"$19.99\"}}, {\"position\": 4, \"title\": \"Memory Stick Pro Duo MagicGate Card for Sony PSP Cybershot 1 2 4 8gb - You Pick\", \"epid\": \"167134326656\", \"link\": \"https://www.ebay.com/itm/167134326656\", \"image\": \"https://i.ebayimg.com/images/g/4-cAAOSw4ytnSOwT/s-l140.jpg\", \"hotness\": \"eBay Refurbished\", \"condition\": \"Good - Refurbished\", \"seller_info\": {\"name\": \"minervas-loft\", \"review_count\": 5502, \"positive_feedback_percent\": 99.5}, \"is_auction\": false, \"buy_it_now\": true, \"free_returns\": true, \"sponsored\": true, \"prices\": [{\"value\": 11.97, \"raw\": \"$11.97\"}, {\"value\": 12.97, \"raw\": \"$12.97\"}], \"price\": {\"value\": 11.97, \"raw\": \"$11.97\"}}, {\"position\": 5, \"title\": \"SanDisk SD 64GB Ultra SDHC UHS-I / Class 10 Memory Card, Speed Up to 120MB/s\", \"epid\": \"156294481766\", \"link\": \"https://www.ebay.com/itm/156294481766\", \"image\": \"https://i.ebayimg.com/images/g/QngAAOSwPtlmjKia/s-l140.jpg\", \"condition\": \"Open Box\", \"seller_info\": {\"name\": \"bytestrading\", \"review_count\": 1467, \"positive_feedback_percent\": 97.8}, \"is_auction\": false, \"buy_it_now\": true, \"free_returns\": false, \"rating\": 5, \"ratings_total\": 8, \"sponsored\": true, \"prices\": [{\"value\": 7.47, \"raw\": \"$7.47\"}], \"price\": {\"value\": 7.47, \"raw\": \"$7.47\"}}, {\"position\": 6, \"title\": \"SanDisk 32GB Ultra SDHC UHS-I Memory Card Class 10 120 MB/s Full HD Camera\", \"epid\": \"193904175450\", \"link\": \"https://www.ebay.com/itm/193904175450\", \"image\": \"https://i.ebayimg.com/images/g/5dsAAOSwCeRgyfwN/s-l140.jpg\", \"condition\": \"Brand New\", \"seller_info\": {\"name\": \"gmdbrands\", \"review_count\": 15611, \"positive_feedback_percent\": 98.9}, \"is_auction\": false, \"buy_it_now\": true, \"free_returns\": false, \"rating\": 5, \"ratings_total\": 94, \"sponsored\": true, \"prices\": [{\"value\": 7.8, \"raw\": \"$7.80\"}], \"price\": {\"value\": 7.8, \"raw\": \"$7.80\"}}, {\"position\": 7, \"title\": \"Sandisk Micro SD Card 128GB 256GB Extreme Pro Ultra Memory Cards lot 170MB/s USA\", \"epid\": \"335700739457\", \"link\": \"https://www.ebay.com/itm/335700739457\", \"image\": \"https://i.ebayimg.com/images/g/gOMAAOSwvY1nSRlt/s-l140.jpg\", \"condition\": \"Brand New\", \"seller_info\": {\"name\": \"zhaoxinspea\", \"review_count\": 535, \"positive_feedback_percent\": 98.7}, \"is_auction\": false, \"buy_it_now\": true, \"free_returns\": true, \"sponsored\": true, \"prices\": [{\"value\": 13.99, \"raw\": \"$13.99\"}, {\"value\": 24.99, \"raw\": \"$24.99\"}], \"price\": {\"value\": 13.99, \"raw\": \"$13.99\"}}, {\"position\": 8, \"title\": \"Lot of 2 SanDisk 32GB = 64GB SD SDHC Class 4 Camera Flash Memory Card SDSDB-032G\", \"epid\": \"331634660766\", \"link\": \"https://www.ebay.com/itm/331634660766\", \"image\": \"https://i.ebayimg.com/images/g/IRMAAOSw3ydV183w/s-l140.jpg\", \"condition\": \"Brand New\", \"seller_info\": {\"name\": \"allizwell2k10\", \"review_count\": 391920, \"positive_feedback_percent\": 99.5}, \"is_auction\": false, \"buy_it_now\": true, \"free_returns\": true, \"sponsored\": true, \"prices\": [{\"value\": 12.99, \"raw\": \"$12.99\"}], \"price\": {\"value\": 12.99, \"raw\": \"$12.99\"}}, {\"position\": 9, \"title\": \"Pack of 10 Genuine SanDisk 16GB Class 4 SD SDHC Flash Memory Card SDSDB-016G lot\", \"epid\": \"405071797164\", \"link\": \"https://www.ebay.com/itm/405071797164\", \"image\": \"https://i.ebayimg.com/images/g/lFMAAOSwjRVnRwBc/s-l140.jpg\", \"seller_info\": {\"name\": \"memory561\", \"review_count\": 107266, \"positive_feedback_percent\": 99.6}, \"is_auction\": false, \"buy_it_now\": false, \"free_returns\": false, \"sponsored\": false, \"prices\": [{\"value\": 39.97, \"raw\": \"$39.97\"}], \"price\": {\"value\": 39.97, \"raw\": \"$39.97\"}}, {\"position\": 10, \"title\": \"10x SanDisk 64GB Ultra SDXC UHS-I / Class 10 Memory Card, Speed Up to 120MB/s\", \"epid\": \"395521737878\", \"link\": \"https://www.ebay.com/itm/395521737878\", \"image\": \"https://i.ebayimg.com/images/g/gR0AAOSwJRNmjKYe/s-l140.jpg\", \"seller_info\": {\"name\": \"memory561\", \"review_count\": 107266, \"positive_feedback_percent\": 99.6}, \"is_auction\": false, \"buy_it_now\": false, \"free_returns\": false, \"sponsored\": false, \"prices\": [{\"value\": 54.99, \"raw\": \"$54.99\"}], \"price\": {\"value\": 54.99, \"raw\": \"$54.99\"}}, {\"position\": 11, \"title\": \"LOT 10x SanDisk SD 64GB Ultra PLUS SDXC UHS-1 Memory Card 130MB/s 64 GB 10 x\", \"epid\": \"405313843474\", \"link\": \"https://www.ebay.com/itm/405313843474\", \"image\": \"https://i.ebayimg.com/images/g/KH4AAOSwTChi88fV/s-l140.jpg\", \"seller_info\": {\"name\": \"memory561\", \"review_count\": 107266, \"positive_feedback_percent\": 99.6}, \"is_auction\": false, \"buy_it_now\": false, \"free_returns\": false, \"sponsored\": false, \"prices\": [{\"value\": 59.99, \"raw\": \"$59.99\"}], \"price\": {\"value\": 59.99, \"raw\": \"$59.99\"}}, {\"position\": 12, \"title\": \"SanDisk ExtremePro 64GB CF memory card SDCFXPS-064G G Extreme Pro 64 GB 160MB/s\", \"epid\": \"404856030762\", \"link\": \"https://www.ebay.com/itm/404856030762\", \"image\": \"https://i.ebayimg.com/images/g/Om4AAOSwHnFVpn1v/s-l140.jpg\", \"seller_info\": {\"name\": \"memory561\", \"review_count\": 107266, \"positive_feedback_percent\": 99.6}, \"is_auction\": false, \"buy_it_now\": false, \"free_returns\": false, \"sponsored\": false, \"prices\": [{\"value\": 34.99, \"raw\": \"$34.99\"}], \"price\": {\"value\": 34.99, \"raw\": \"$34.99\"}}, {\"position\": 13, \"title\": \"SanDisk 32GB Ultra SDHC UHS-I Memory Card Class 10 120 MB/s Full HD Camera\", \"epid\": \"193904175450\", \"link\": \"https://www.ebay.com/itm/193904175450\", \"image\": \"https://i.ebayimg.com/images/g/5dsAAOSwCeRgyfwN/s-l140.jpg\", \"seller_info\": {\"name\": \"gmdbrands\", \"review_count\": 15611, \"positive_feedback_percent\": 98.9}, \"is_auction\": false, \"buy_it_now\": false, \"free_returns\": false, \"sponsored\": false, \"prices\": [{\"value\": 7.8, \"raw\": \"$7.80\"}], \"price\": {\"value\": 7.8, \"raw\": \"$7.80\"}}, {\"position\": 14, \"title\": \"SanDisk CF Extreme 64GB 120MB/s CompactFlash Memory Card SDCFXS-64G 64 GB\", \"epid\": \"382233755733\", \"link\": \"https://www.ebay.com/itm/382233755733\", \"image\": \"https://i.ebayimg.com/images/g/6HsAAOSwdQNZxcJC/s-l140.jpg\", \"seller_info\": {\"name\": \"memory561\", \"review_count\": 107266, \"positive_feedback_percent\": 99.6}, \"is_auction\": false, \"buy_it_now\": false, \"free_returns\": false, \"sponsored\": false, \"prices\": [{\"value\": 29.99, \"raw\": \"$29.99\"}], \"price\": {\"value\": 29.99, \"raw\": \"$29.99\"}}, {\"position\": 15, \"title\": \"Lot of 10 x SanDisk 32GB SDHC Class 4 SD Flash Memory Card Camera SDSDB-032G-B35\", \"epid\": \"332801146571\", \"link\": \"https://www.ebay.com/itm/332801146571\", \"image\": \"https://i.ebayimg.com/images/g/qZAAAOSwXUdblz6a/s-l140.jpg\", \"seller_info\": {\"name\": \"allizwell2k10\", \"review_count\": 391920, \"positive_feedback_percent\": 99.5}, \"is_auction\": false, \"buy_it_now\": false, \"free_returns\": false, \"sponsored\": false, \"prices\": [{\"value\": 53.99, \"raw\": \"$53.99\"}], \"price\": {\"value\": 53.99, \"raw\": \"$53.99\"}}, {\"position\": 16, \"title\": \"Lot 10x SanDisk 64GB SD SDXC Class 4 Flash Memory Camera Card 64 GB SDSDB-064G\", \"epid\": \"401968630957\", \"link\": \"https://www.ebay.com/itm/401968630957\", \"image\": \"https://i.ebayimg.com/images/g/lRkAAOSwqK1d2BaV/s-l140.jpg\", \"seller_info\": {\"name\": \"memory561\", \"review_count\": 107266, \"positive_feedback_percent\": 99.6}, \"is_auction\": false, \"buy_it_now\": false, \"free_returns\": false, \"sponsored\": false, \"prices\": [{\"value\": 49.99, \"raw\": \"$49.99\"}], \"price\": {\"value\": 49.99, \"raw\": \"$49.99\"}}, {\"position\": 17, \"title\": \"Sandisk SD Card 16GB 32GB 64GB 128GB Ultra Memory Card Camera Trail Cam Computer\", \"epid\": \"274688396928\", \"link\": \"https://www.ebay.com/itm/274688396928\", \"image\": \"https://i.ebayimg.com/images/g/LegAAOSwNkdisJb3/s-l140.jpg\", \"condition\": \"Brand New\", \"seller_info\": {\"name\": \"memorydiscounters\", \"review_count\": 71478, \"positive_feedback_percent\": 99.9}, \"is_auction\": false, \"buy_it_now\": true, \"free_returns\": true, \"rating\": 5, \"ratings_total\": 10, \"sponsored\": true, \"prices\": [{\"value\": 7.98, \"raw\": \"$7.98\"}, {\"value\": 56.98, \"raw\": \"$56.98\"}], \"price\": {\"value\": 7.98, \"raw\": \"$7.98\"}}, {\"position\": 18, \"title\": \"SanDisk Ultra 128 GB SD SDXC Memory Card SDSDUNR-128G-GN3IN 100mbps\", \"epid\": \"284993211913\", \"link\": \"https://www.ebay.com/itm/284993211913\", \"image\": \"https://i.ebayimg.com/images/g/UYQAAOSw~wdjOHpe/s-l140.jpg\", \"condition\": \"Brand New\", \"seller_info\": {\"name\": \"allizwell2k10\", \"review_count\": 391920, \"positive_feedback_percent\": 99.5}, \"is_auction\": false, \"buy_it_now\": true, \"free_returns\": true, \"rating\": 5, \"ratings_total\": 27, \"sponsored\": true, \"prices\": [{\"value\": 13.5, \"raw\": \"$13.50\"}], \"price\": {\"value\": 13.5, \"raw\": \"$13.50\"}}, {\"position\": 19, \"title\": \"SanDisk 32GB Extreme Class10 V30 UHS-I U3 SD card 100MBs Full SD HC Memory card\", \"epid\": \"195214263197\", \"link\": \"https://www.ebay.com/itm/195214263197\", \"image\": \"https://i.ebayimg.com/images/g/BssAAOSwE5tlvAMJ/s-l140.jpg\", \"condition\": \"Brand New\", \"seller_info\": {\"name\": \"gmdbrands\", \"review_count\": 15611, \"positive_feedback_percent\": 98.9}, \"is_auction\": false, \"buy_it_now\": true, \"free_returns\": false, \"rating\": 5, \"ratings_total\": 27, \"sponsored\": true, \"prices\": [{\"value\": 9.79, \"raw\": \"$9.79\"}], \"price\": {\"value\": 9.79, \"raw\": \"$9.79\"}}, {\"position\": 20, \"title\": \"SanDisk Ultra 64GB 80MB/s SDXC SDHC Class 10 533x SD Camera Flash Memory Card\", \"epid\": \"332426273325\", \"link\": \"https://www.ebay.com/itm/332426273325\", \"image\": \"https://i.ebayimg.com/images/g/4EsAAOSwEEBZ8YzQ/s-l140.jpg\", \"condition\": \"Brand New\", \"seller_info\": {\"name\": \"allizwell2k10\", \"review_count\": 391920, \"positive_feedback_percent\": 99.5}, \"is_auction\": false, \"buy_it_now\": true, \"free_returns\": true, \"rating\": 5, \"ratings_total\": 191, \"sponsored\": true, \"prices\": [{\"value\": 10.5, \"raw\": \"$10.50\"}], \"price\": {\"value\": 10.5, \"raw\": \"$10.50\"}}, {\"position\": 21, \"title\": \"SanDisk  Extreme PRO 256GB SD SDXC Card 200MB/s Class 10 UHS-1 U3 4K Memory\", \"epid\": \"156442637807\", \"link\": \"https://www.ebay.com/itm/156442637807\", \"image\": \"https://i.ebayimg.com/images/g/B3sAAOSwFXlnAKfD/s-l140.jpg\", \"condition\": \"Brand New\", \"seller_info\": {\"name\": \"dorandbelle\", \"review_count\": 386, \"positive_feedback_percent\": 92.2}, \"is_auction\": false, \"buy_it_now\": false, \"free_returns\": true, \"rating\": 5, \"ratings_total\": 7, \"sponsored\": true, \"best_offer\": true, \"prices\": [{\"value\": 29.95, \"raw\": \"$29.95\"}], \"price\": {\"value\": 29.95, \"raw\": \"$29.95\"}}, {\"position\": 22, \"title\": \"SanDisk 128GB Extreme PRO SDXC UHS-I Memory Card - C10, U3, V30, 4K UHD, SD Card\", \"epid\": \"176722377659\", \"link\": \"https://www.ebay.com/itm/176722377659\", \"image\": \"https://i.ebayimg.com/images/g/3VsAAOSwOjlnUxr9/s-l140.jpg\", \"condition\": \"Brand New\", \"seller_info\": {\"name\": \"5thousands\", \"review_count\": 799, \"positive_feedback_percent\": 97.6}, \"is_auction\": false, \"buy_it_now\": true, \"free_returns\": true, \"rating\": 5, \"ratings_total\": 19, \"sponsored\": true, \"prices\": [{\"value\": 20.9, \"raw\": \"$20.90\"}], \"price\": {\"value\": 20.9, \"raw\": \"$20.90\"}}, {\"position\": 23, \"title\": \"SanDisk 256GB Extreme PRO SDXC UHS-I Memory Card C10, U3, V30, 4K UHD, SD Card\", \"epid\": \"235854813016\", \"link\": \"https://www.ebay.com/itm/235854813016\", \"image\": \"https://i.ebayimg.com/images/g/picAAOSwzdZnThws/s-l140.jpg\", \"condition\": \"Brand New\", \"seller_info\": {\"name\": \"musbo-75\", \"review_count\": 135, \"positive_feedback_percent\": 100}, \"is_auction\": false, \"buy_it_now\": false, \"free_returns\": false, \"sponsored\": true, \"best_offer\": true, \"prices\": [{\"value\": 29.99, \"raw\": \"$29.99\"}], \"price\": {\"value\": 29.99, \"raw\": \"$29.99\"}}, {\"position\": 24, \"title\": \"SanDisk 16GB Class 4 SDHC Memory Card - SDSDB-016G-B35\", \"epid\": \"156542390506\", \"link\": \"https://www.ebay.com/itm/156542390506\", \"image\": \"https://i.ebayimg.com/images/g/MDMAAOSwfRlnRv2r/s-l140.jpg\", \"condition\": \"Open Box\", \"seller_info\": {\"name\": \"bytestrading\", \"review_count\": 1467, \"positive_feedback_percent\": 97.8}, \"is_auction\": false, \"buy_it_now\": false, \"free_returns\": false, \"rating\": 5, \"ratings_total\": 587, \"sponsored\": true, \"best_offer\": true, \"prices\": [{\"value\": 5.98, \"raw\": \"$5.98\"}], \"price\": {\"value\": 5.98, \"raw\": \"$5.98\"}}, {\"position\": 25, \"title\": \"SanDisk SD Cards 16GB 32GB 64GB SDHC SDXC Extreme Pro Ultra Memory Cards lot\", \"epid\": \"226364353862\", \"link\": \"https://www.ebay.com/itm/226364353862\", \"image\": \"https://i.ebayimg.com/images/g/NikAAOSwOexm71-v/s-l140.jpg\", \"condition\": \"Brand New\", \"seller_info\": {\"name\": \"sd_tech_4you\", \"review_count\": 70, \"positive_feedback_percent\": 98.6}, \"is_auction\": false, \"buy_it_now\": true, \"free_returns\": false, \"rating\": 5, \"ratings_total\": 81, \"sponsored\": true, \"prices\": [{\"value\": 7.79, \"raw\": \"$7.79\"}, {\"value\": 14.99, \"raw\": \"$14.99\"}], \"price\": {\"value\": 7.79, \"raw\": \"$7.79\"}}, {\"position\": 26, \"title\": \"SanDisk Micro SD 32GB 16GB 8GB SD HC TF Memory Card Class 4 C4 FAST SHIPPING\", \"epid\": \"322726259110\", \"link\": \"https://www.ebay.com/itm/322726259110\", \"image\": \"https://i.ebayimg.com/images/g/ybcAAOSwxnFieR15/s-l140.jpg\", \"condition\": \"Brand New\", \"seller_info\": {\"name\": \"memorydiscounters\", \"review_count\": 71478, \"positive_feedback_percent\": 99.9}, \"is_auction\": false, \"buy_it_now\": true, \"free_returns\": true, \"sponsored\": true, \"prices\": [{\"value\": 6.93, \"raw\": \"$6.93\"}, {\"value\": 43.48, \"raw\": \"$43.48\"}], \"price\": {\"value\": 6.93, \"raw\": \"$6.93\"}}, {\"position\": 27, \"title\": \"Lot of 2 SanDisk 16GB = 32GB SDHC Class 4 SD Flash Memory Card Camera SDSDB-016G\", \"epid\": \"281779505238\", \"link\": \"https://www.ebay.com/itm/281779505238\", \"image\": \"https://i.ebayimg.com/images/g/RNoAAOSwDNdV18zs/s-l140.jpg\", \"condition\": \"Brand New\", \"seller_info\": {\"name\": \"allizwell2k10\", \"review_count\": 391920, \"positive_feedback_percent\": 99.5}, \"is_auction\": false, \"buy_it_now\": false, \"free_returns\": true, \"rating\": 5, \"ratings_total\": 587, \"sponsored\": true, \"best_offer\": true, \"prices\": [{\"value\": 12.95, \"raw\": \"$12.95\"}], \"price\": {\"value\": 12.95, \"raw\": \"$12.95\"}}, {\"position\": 28, \"title\": \"Sandisk SD Cards 16GB 32GB 64GB 128GB 256GB Extreme Pro Ultra Memory Cards lot\", \"epid\": \"324078167020\", \"link\": \"https://www.ebay.com/itm/324078167020\", \"image\": \"https://i.ebayimg.com/images/g/PasAAOSwHVJi4Akg/s-l140.jpg\", \"condition\": \"Brand New\", \"seller_info\": {\"name\": \"memorydiscounters\", \"review_count\": 71478, \"positive_feedback_percent\": 99.9}, \"is_auction\": false, \"buy_it_now\": true, \"free_returns\": true, \"sponsored\": true, \"prices\": [{\"value\": 10.2, \"raw\": \"$10.20\"}, {\"value\": 173.04, \"raw\": \"$173.04\"}], \"price\": {\"value\": 10.2, \"raw\": \"$10.20\"}}, {\"position\": 29, \"title\": \"Sandisk EXTREME 64GB microSDXC A2 C10 U3 UHS-I V30 160MB/s MicroSD Memory Card\", \"epid\": \"156484164123\", \"link\": \"https://www.ebay.com/itm/156484164123\", \"image\": \"https://i.ebayimg.com/images/g/QfkAAOSwSPRkGJRY/s-l140.jpg\", \"condition\": \"Brand New\", \"seller_info\": {\"name\": \"onlyonedeal\", \"review_count\": 27745, \"positive_feedback_percent\": 97.9}, \"is_auction\": false, \"buy_it_now\": true, \"free_returns\": true, \"rating\": 5, \"ratings_total\": 7, \"sponsored\": true, \"prices\": [{\"value\": 8.95, \"raw\": \"$8.95\"}], \"price\": {\"value\": 8.95, \"raw\": \"$8.95\"}}, {\"position\": 30, \"title\": \"SanDisk Extreme Pro 256GB Class 10 SDXC Memory Card - SDSDXXY\", \"epid\": \"405302290205\", \"link\": \"https://www.ebay.com/itm/405302290205\", \"image\": \"https://i.ebayimg.com/images/g/MfQAAOSwBB9nF-aH/s-l140.jpg\", \"condition\": \"Brand New\", \"seller_info\": {\"name\": \"evalueexpo\", \"review_count\": 115044, \"positive_feedback_percent\": 98.9}, \"is_auction\": false, \"buy_it_now\": true, \"free_returns\": true, \"rating\": 5, \"ratings_total\": 5, \"sponsored\": true, \"prices\": [{\"value\": 19.95, \"raw\": \"$19.95\"}], \"price\": {\"value\": 19.95, \"raw\": \"$19.95\"}}, {\"position\": 31, \"title\": \"SanDisk High Endurance & Max Endurance Micro SD Memory Cards 64GB 128GB 256GB\", \"epid\": \"274561375765\", \"link\": \"https://www.ebay.com/itm/274561375765\", \"image\": \"https://i.ebayimg.com/images/g/K7IAAOSw~n1ieR0K/s-l140.jpg\", \"condition\": \"Brand New\", \"seller_info\": {\"name\": \"memorydiscounters\", \"review_count\": 71478, \"positive_feedback_percent\": 99.9}, \"is_auction\": false, \"buy_it_now\": true, \"free_returns\": true, \"sponsored\": true, \"prices\": [{\"value\": 12.65, \"raw\": \"$12.65\"}, {\"value\": 222.75, \"raw\": \"$222.75\"}], \"price\": {\"value\": 12.65, \"raw\": \"$12.65\"}}, {\"position\": 32, \"title\": \"32GB Sandisk Ultra SD Memory cards 10 pack for Camera / Trail Camera / Computers\", \"epid\": \"274918776662\", \"link\": \"https://www.ebay.com/itm/274918776662\", \"image\": \"https://i.ebayimg.com/images/g/USsAAOSw-DZixfeU/s-l140.jpg\", \"condition\": \"Brand New\", \"seller_info\": {\"name\": \"memorydiscounters\", \"review_count\": 71478, \"positive_feedback_percent\": 99.9}, \"is_auction\": false, \"buy_it_now\": true, \"free_returns\": true, \"sponsored\": true, \"prices\": [{\"value\": 52.32, \"raw\": \"$52.32\"}], \"price\": {\"value\": 52.32, \"raw\": \"$52.32\"}}, {\"position\": 33, \"title\": \"Lot of 5 SanDisk Ultra 32 GB SDHC SDXC Class 10 48MB/s Memory Card SDSDUNB-032G\", \"epid\": \"283772390368\", \"link\": \"https://www.ebay.com/itm/283772390368\", \"image\": \"https://i.ebayimg.com/images/g/c~4AAOSw8KxeObN9/s-l140.jpg\", \"condition\": \"Brand New\", \"seller_info\": {\"name\": \"allizwell2k10\", \"review_count\": 391920, \"positive_feedback_percent\": 99.5}, \"is_auction\": false, \"buy_it_now\": true, \"free_returns\": true, \"sponsored\": true, \"prices\": [{\"value\": 29.99, \"raw\": \"$29.99\"}], \"price\": {\"value\": 29.99, \"raw\": \"$29.99\"}}, {\"position\": 34, \"title\": \"SanDisk Extreme PRO 128GB UHS-I U3 SDXC 200MB/s 4K Memory Card\", \"epid\": \"156442619957\", \"link\": \"https://www.ebay.com/itm/156442619957\", \"image\": \"https://i.ebayimg.com/images/g/gJ0AAOSwqTVnAHSF/s-l140.jpg\", \"condition\": \"Brand New\", \"seller_info\": {\"name\": \"dorandbelle\", \"review_count\": 386, \"positive_feedback_percent\": 92.2}, \"is_auction\": false, \"buy_it_now\": false, \"free_returns\": true, \"rating\": 5, \"ratings_total\": 19, \"sponsored\": true, \"best_offer\": true, \"prices\": [{\"value\": 19.95, \"raw\": \"$19.95\"}], \"price\": {\"value\": 19.95, \"raw\": \"$19.95\"}}, {\"position\": 35, \"title\": \"SanDisk 32GB Ultra SDHC UHS I Memory Card Single\", \"epid\": \"116393146653\", \"link\": \"https://www.ebay.com/itm/116393146653\", \"image\": \"https://i.ebayimg.com/images/g/6N8AAOSwDTBnFK69/s-l140.jpg\", \"condition\": \"Brand New\", \"seller_info\": {\"name\": \"focusproaudio\", \"review_count\": 22169, \"positive_feedback_percent\": 98.7}, \"is_auction\": false, \"buy_it_now\": true, \"free_returns\": true, \"rating\": 5, \"ratings_total\": 81, \"sponsored\": true, \"prices\": [{\"value\": 9.99, \"raw\": \"$9.99\"}], \"price\": {\"value\": 9.99, \"raw\": \"$9.99\"}}, {\"position\": 36, \"title\": \"Sandisk Ultra 32GB SD Memory cards for Camera/Trail Camera / Computers (10 Pack)\", \"epid\": \"275404470286\", \"link\": \"https://www.ebay.com/itm/275404470286\", \"image\": \"https://i.ebayimg.com/images/g/2fkAAOSwhZNi1aT4/s-l140.jpg\", \"condition\": \"Brand New\", \"seller_info\": {\"name\": \"memorydiscounters\", \"review_count\": 71478, \"positive_feedback_percent\": 99.9}, \"is_auction\": false, \"buy_it_now\": true, \"free_returns\": true, \"rating\": 5, \"ratings_total\": 94, \"sponsored\": true, \"prices\": [{\"value\": 55.04, \"raw\": \"$55.04\"}], \"price\": {\"value\": 55.04, \"raw\": \"$55.04\"}}, {\"position\": 37, \"title\": \"128GB Micro SD Card 100% Original SanDisk Ships Fast From USA\", \"epid\": \"326145078084\", \"link\": \"https://www.ebay.com/itm/326145078084\", \"image\": \"https://i.ebayimg.com/images/g/eU4AAOSwkq1mWEDJ/s-l140.jpg\", \"condition\": \"Brand New\", \"seller_info\": {\"name\": \"cvetasti\", \"review_count\": 88, \"positive_feedback_percent\": 100}, \"is_auction\": false, \"buy_it_now\": true, \"free_returns\": false, \"sponsored\": true, \"prices\": [{\"value\": 15.99, \"raw\": \"$15.99\"}], \"price\": {\"value\": 15.99, \"raw\": \"$15.99\"}}, {\"position\": 38, \"title\": \"Sandisk SD Extreme 32GB 64GB 128GB 256GB 512GB Memory Card for Nikon Canon Sony\", \"epid\": \"204044516566\", \"link\": \"https://www.ebay.com/itm/204044516566\", \"image\": \"https://i.ebayimg.com/images/g/b-sAAOSwuFFkxpOr/s-l140.jpg\", \"condition\": \"Brand New\", \"seller_info\": {\"name\": \"terashack\", \"review_count\": 63746, \"positive_feedback_percent\": 99.9}, \"is_auction\": false, \"buy_it_now\": true, \"free_returns\": true, \"sponsored\": true, \"prices\": [{\"value\": 17.99, \"raw\": \"$17.99\"}, {\"value\": 459.99, \"raw\": \"$459.99\"}], \"price\": {\"value\": 17.99, \"raw\": \"$17.99\"}}, {\"position\": 39, \"title\": \"SanDisk SD Flash Memory Card Camera SDHC SDXC 16GB 32GB 64GB Class4 SDSDB By Lot\", \"epid\": \"196196935542\", \"link\": \"https://www.ebay.com/itm/196196935542\", \"image\": \"https://i.ebayimg.com/images/g/RFIAAOSwG8xlqSYX/s-l140.jpg\", \"condition\": \"Brand New\", \"seller_info\": {\"name\": \"gmdbrands\", \"review_count\": 15611, \"positive_feedback_percent\": 98.9}, \"is_auction\": false, \"buy_it_now\": true, \"free_returns\": false, \"sponsored\": true, \"prices\": [{\"value\": 9.99, \"raw\": \"$9.99\"}, {\"value\": 49.99, \"raw\": \"$49.99\"}], \"price\": {\"value\": 9.99, \"raw\": \"$9.99\"}}, {\"position\": 40, \"title\": \"10x SanDisk 64GB Ultra SDXC UHS-I / Class 10 Memory Card, Speed Up to 120MB/s\", \"epid\": \"395521737878\", \"link\": \"https://www.ebay.com/itm/395521737878\", \"image\": \"https://i.ebayimg.com/images/g/gR0AAOSwJRNmjKYe/s-l140.jpg\", \"condition\": \"Open Box\", \"seller_info\": {\"name\": \"memory561\", \"review_count\": 107266, \"positive_feedback_percent\": 99.6}, \"is_auction\": false, \"buy_it_now\": false, \"free_returns\": true, \"sponsored\": true, \"best_offer\": true, \"prices\": [{\"value\": 54.99, \"raw\": \"$54.99\"}], \"price\": {\"value\": 54.99, \"raw\": \"$54.99\"}}, {\"position\": 41, \"title\": \"Sandisk SD Cards 16GB 32GB 64GB 128GB 256GB Extreme Ultra Memory Cards lot\", \"epid\": \"275316711001\", \"link\": \"https://www.ebay.com/itm/275316711001\", \"image\": \"https://i.ebayimg.com/images/g/FGwAAOSwsEZi4Ad5/s-l140.jpg\", \"condition\": \"Brand New\", \"seller_info\": {\"name\": \"memorydiscounters\", \"review_count\": 71478, \"positive_feedback_percent\": 99.9}, \"is_auction\": false, \"buy_it_now\": true, \"free_returns\": true, \"sponsored\": true, \"prices\": [{\"value\": 10.2, \"raw\": \"$10.20\"}, {\"value\": 71.4, \"raw\": \"$71.40\"}], \"price\": {\"value\": 10.2, \"raw\": \"$10.20\"}}, {\"position\": 42, \"title\": \"Sandisk 4Gb Memory Stick Pro Duo Magic Gate Memory card - Black\", \"epid\": \"266663164270\", \"link\": \"https://www.ebay.com/itm/266663164270\", \"image\": \"https://i.ebayimg.com/images/g/atwAAOSwFgVlxPhc/s-l140.jpg\", \"condition\": \"Pre-Owned\", \"seller_info\": {\"name\": \"mariomansion\", \"review_count\": 22995, \"positive_feedback_percent\": 96.8}, \"is_auction\": false, \"buy_it_now\": true, \"free_returns\": false, \"sponsored\": true, \"prices\": [{\"value\": 9.95, \"raw\": \"$9.95\"}], \"price\": {\"value\": 9.95, \"raw\": \"$9.95\"}}, {\"position\": 43, \"title\": \"Lot of 10 x SanDisk 32GB SDHC Class 4 SD Flash Memory Card Camera SDSDB-032G-B35\", \"epid\": \"332801146571\", \"link\": \"https://www.ebay.com/itm/332801146571\", \"image\": \"https://i.ebayimg.com/images/g/qZAAAOSwXUdblz6a/s-l140.jpg\", \"condition\": \"Brand New\", \"seller_info\": {\"name\": \"allizwell2k10\", \"review_count\": 391920, \"positive_feedback_percent\": 99.5}, \"is_auction\": false, \"buy_it_now\": true, \"free_returns\": true, \"rating\": 4.5, \"ratings_total\": 8, \"sponsored\": true, \"prices\": [{\"value\": 53.99, \"raw\": \"$53.99\"}], \"price\": {\"value\": 53.99, \"raw\": \"$53.99\"}}, {\"position\": 44, \"title\": \"SanDisk 128GB Micro SD SDXC MicroSD TF Class 10 128 GB Extreme PRO 200MB/s\", \"epid\": \"334572077116\", \"link\": \"https://www.ebay.com/itm/334572077116\", \"image\": \"https://i.ebayimg.com/images/g/QiQAAOSwistjLUIB/s-l140.jpg\", \"condition\": \"Brand New\", \"seller_info\": {\"name\": \"allizwell2k10\", \"review_count\": 391920, \"positive_feedback_percent\": 99.5}, \"is_auction\": false, \"buy_it_now\": true, \"free_returns\": true, \"rating\": 5, \"ratings_total\": 32, \"sponsored\": true, \"prices\": [{\"value\": 18.5, \"raw\": \"$18.50\"}], \"price\": {\"value\": 18.5, \"raw\": \"$18.50\"}}, {\"position\": 45, \"title\": \"SanDisk - Ultra PLUS 128GB SDXC UHS-I Memory Card\", \"epid\": \"204119944350\", \"link\": \"https://www.ebay.com/itm/204119944350\", \"image\": \"https://i.ebayimg.com/images/g/8DUAAOSwfvVmu3FR/s-l140.jpg\", \"condition\": \"Brand New\", \"seller_info\": {\"name\": \"best_buy\", \"review_count\": 854520, \"positive_feedback_percent\": 95.2}, \"is_auction\": false, \"buy_it_now\": true, \"free_returns\": false, \"sponsored\": true}, {\"position\": 46, \"title\": \"Sandisk Micro SD Card 128GB 256GB Extreme Pro Ultra Memory Cards lot 170MB/s\", \"epid\": \"135292638639\", \"link\": \"https://www.ebay.com/itm/135292638639\", \"image\": \"https://i.ebayimg.com/images/g/AJkAAOSw74xnBoI2/s-l140.jpg\", \"condition\": \"Brand New\", \"seller_info\": {\"name\": \"natnaemol-0\", \"review_count\": 56, \"positive_feedback_percent\": 96.7}, \"is_auction\": false, \"buy_it_now\": true, \"free_returns\": true, \"sponsored\": true, \"prices\": [{\"value\": 10.99, \"raw\": \"$10.99\"}, {\"value\": 25.99, \"raw\": \"$25.99\"}], \"price\": {\"value\": 10.99, \"raw\": \"$10.99\"}}, {\"position\": 47, \"title\": \"SanDisk Extreme PLUS 128GB microSDXC UHS-I/U3 Card with Adapter\", \"epid\": \"387251615855\", \"link\": \"https://www.ebay.com/itm/387251615855\", \"image\": \"https://i.ebayimg.com/images/g/IeQAAOSwEXVmqZ3n/s-l140.jpg\", \"condition\": \"Brand New\", \"seller_info\": {\"name\": \"j.strickly\", \"review_count\": 110, \"positive_feedback_percent\": 98.2}, \"is_auction\": false, \"buy_it_now\": false, \"free_returns\": false, \"shipping_cost\": 4.26, \"rating\": 5, \"ratings_total\": 3, \"sponsored\": true, \"best_offer\": true, \"prices\": [{\"value\": 14.99, \"raw\": \"$14.99\"}], \"price\": {\"value\": 14.99, \"raw\": \"$14.99\"}}, {\"position\": 48, \"title\": \"LOT 10x SanDisk SD 64GB Ultra PLUS SDXC UHS-1 Memory Card 130MB/s 64 GB 10 x\", \"epid\": \"405313843474\", \"link\": \"https://www.ebay.com/itm/405313843474\", \"image\": \"https://i.ebayimg.com/images/g/KH4AAOSwTChi88fV/s-l140.jpg\", \"condition\": \"Open Box\", \"seller_info\": {\"name\": \"memory561\", \"review_count\": 107266, \"positive_feedback_percent\": 99.6}, \"is_auction\": false, \"buy_it_now\": true, \"free_returns\": true, \"sponsored\": true, \"prices\": [{\"value\": 59.99, \"raw\": \"$59.99\"}], \"price\": {\"value\": 59.99, \"raw\": \"$59.99\"}}, {\"position\": 49, \"title\": \"Lot 4 x SanDisk 32GB SDHC Class 4 SD Flash Memory Card Camera SDSDB-032G 128GB\", \"epid\": \"253863195301\", \"link\": \"https://www.ebay.com/itm/253863195301\", \"image\": \"https://i.ebayimg.com/images/g/BN8AAOSwgsVbl0Ip/s-l140.jpg\", \"condition\": \"Brand New\", \"seller_info\": {\"name\": \"allizwell2k10\", \"review_count\": 391920, \"positive_feedback_percent\": 99.5}, \"is_auction\": false, \"buy_it_now\": true, \"free_returns\": true, \"rating\": 5, \"ratings_total\": 18, \"sponsored\": true, \"prices\": [{\"value\": 23.99, \"raw\": \"$23.99\"}], \"price\": {\"value\": 23.99, \"raw\": \"$23.99\"}}, {\"position\": 50, \"title\": \"NEW Sandisk Micro SD Card 128GB 256GB Extreme Pro Ultra Memory Cards lot 170MB/s\", \"epid\": \"176726825968\", \"link\": \"https://www.ebay.com/itm/176726825968\", \"image\": \"https://i.ebayimg.com/images/g/N6sAAOSwUZ5nVoO4/s-l140.jpg\", \"condition\": \"Brand New\", \"seller_info\": {\"name\": \"kassadinblades\", \"review_count\": 248, \"positive_feedback_percent\": 95.7}, \"is_auction\": false, \"buy_it_now\": true, \"free_returns\": true, \"sponsored\": true, \"prices\": [{\"value\": 13.99, \"raw\": \"$13.99\"}, {\"value\": 24.99, \"raw\": \"$24.99\"}], \"price\": {\"value\": 13.99, \"raw\": \"$13.99\"}}, {\"position\": 51, \"title\": \"5 x SanDisk Ultra 16GB SDHC SDXC SD Class 10 Flash Memory Card Camera + Cases\", \"epid\": \"284987092906\", \"link\": \"https://www.ebay.com/itm/284987092906\", \"image\": \"https://i.ebayimg.com/images/g/CJoAAOSwbZBbwDGf/s-l140.jpg\", \"condition\": \"Brand New\", \"seller_info\": {\"name\": \"allizwell2k10\", \"review_count\": 391920, \"positive_feedback_percent\": 99.5}, \"is_auction\": false, \"buy_it_now\": true, \"free_returns\": true, \"rating\": 5, \"ratings_total\": 13, \"sponsored\": true, \"prices\": [{\"value\": 28.99, \"raw\": \"$28.99\"}], \"price\": {\"value\": 28.99, \"raw\": \"$28.99\"}}, {\"position\": 52, \"title\": \"New SanDisk 32GB SD SDHC Class 4 Camera Flash Memory Card 32 G SDSDB-032G\", \"epid\": \"281462950758\", \"link\": \"https://www.ebay.com/itm/281462950758\", \"image\": \"https://i.ebayimg.com/images/g/en4AAOSwT6pV1Rrm/s-l140.jpg\", \"condition\": \"Brand New\", \"seller_info\": {\"name\": \"allizwell2k10\", \"review_count\": 391920, \"positive_feedback_percent\": 99.5}, \"is_auction\": false, \"buy_it_now\": true, \"free_returns\": true, \"rating\": 5, \"ratings_total\": 435, \"sponsored\": true, \"prices\": [{\"value\": 8.25, \"raw\": \"$8.25\"}], \"price\": {\"value\": 8.25, \"raw\": \"$8.25\"}}, {\"position\": 53, \"title\": \"SanDisk 256GB Micro SD SDXC MicroSD TF Class 10 256 GB Extreme PRO 200MB/s\", \"epid\": \"284979868801\", \"link\": \"https://www.ebay.com/itm/284979868801\", \"image\": \"https://i.ebayimg.com/images/g/FPMAAOSwvyFjLUOQ/s-l140.jpg\", \"condition\": \"Brand New\", \"seller_info\": {\"name\": \"allizwell2k10\", \"review_count\": 391920, \"positive_feedback_percent\": 99.5}, \"is_auction\": false, \"buy_it_now\": true, \"free_returns\": true, \"rating\": 5, \"ratings_total\": 11, \"sponsored\": true, \"prices\": [{\"value\": 28.99, \"raw\": \"$28.99\"}], \"price\": {\"value\": 28.99, \"raw\": \"$28.99\"}}, {\"position\": 54, \"title\": \"SanDisk CF Extreme 64GB 120MB/s CompactFlash Memory Card SDCFXS-64G 64 GB\", \"epid\": \"382233755733\", \"link\": \"https://www.ebay.com/itm/382233755733\", \"image\": \"https://i.ebayimg.com/images/g/6HsAAOSwdQNZxcJC/s-l140.jpg\", \"condition\": \"Pre-Owned\", \"seller_info\": {\"name\": \"memory561\", \"review_count\": 107266, \"positive_feedback_percent\": 99.6}, \"is_auction\": false, \"buy_it_now\": true, \"free_returns\": true, \"sponsored\": true, \"prices\": [{\"value\": 29.99, \"raw\": \"$29.99\"}], \"price\": {\"value\": 29.99, \"raw\": \"$29.99\"}}, {\"position\": 55, \"title\": \"SanDisk 32GB Ultra SDHC UHS-I Memory Card Class 10 120MB/s Full HD Video\", \"epid\": \"266270219936\", \"link\": \"https://www.ebay.com/itm/266270219936\", \"image\": \"https://i.ebayimg.com/images/g/Jg4AAOSw1kxkbnLk/s-l140.jpg\", \"condition\": \"Brand New\", \"seller_info\": {\"name\": \"krommstore\", \"review_count\": 7056, \"positive_feedback_percent\": 99.6}, \"is_auction\": false, \"buy_it_now\": true, \"free_returns\": true, \"rating\": 5, \"ratings_total\": 94, \"sponsored\": true, \"prices\": [{\"value\": 8.99, \"raw\": \"$8.99\"}], \"price\": {\"value\": 8.99, \"raw\": \"$8.99\"}}, {\"position\": 56, \"title\": \"SanDisk ExtremePro 64GB CF memory card SDCFXPS-064G G Extreme Pro 64 GB 160MB/s\", \"epid\": \"404856030762\", \"link\": \"https://www.ebay.com/itm/404856030762\", \"image\": \"https://i.ebayimg.com/images/g/Om4AAOSwHnFVpn1v/s-l140.jpg\", \"condition\": \"Pre-Owned\", \"seller_info\": {\"name\": \"memory561\", \"review_count\": 107266, \"positive_feedback_percent\": 99.6}, \"is_auction\": false, \"buy_it_now\": true, \"free_returns\": true, \"rating\": 5, \"ratings_total\": 21, \"sponsored\": true, \"prices\": [{\"value\": 34.99, \"raw\": \"$34.99\"}], \"price\": {\"value\": 34.99, \"raw\": \"$34.99\"}}, {\"position\": 57, \"title\": \"SanDisk Extreme CompactFlash Memory Cards (variety pack)\", \"epid\": \"256728734759\", \"link\": \"https://www.ebay.com/itm/256728734759\", \"image\": \"https://i.ebayimg.com/images/g/RYMAAOSwzX9nRR79/s-l140.jpg\", \"condition\": \"Pre-Owned\", \"seller_info\": {\"name\": \"musilek\", \"review_count\": 206, \"positive_feedback_percent\": 100}, \"is_auction\": false, \"buy_it_now\": false, \"free_returns\": false, \"sponsored\": true, \"best_offer\": true, \"prices\": [{\"value\": 50, \"raw\": \"$50.00\"}], \"price\": {\"value\": 50, \"raw\": \"$50.00\"}}, {\"position\": 58, \"title\": \"SanDisk 128GB ExtremePRO CFast 2.0 Memory Card, 515MB/s Read, 440MB/s Write\", \"epid\": \"316044165536\", \"link\": \"https://www.ebay.com/itm/316044165536\", \"image\": \"https://i.ebayimg.com/images/g/1vEAAOSwtjZnWk0H/s-l140.jpg\", \"condition\": \"Brand New\", \"seller_info\": {\"name\": \"frankbarajas\", \"review_count\": 2, \"positive_feedback_percent\": 100}, \"is_auction\": false, \"buy_it_now\": false, \"free_returns\": false, \"shipping_cost\": 9.45, \"rating\": 5, \"ratings_total\": 1, \"sponsored\": true, \"best_offer\": true, \"prices\": [{\"value\": 20, \"raw\": \"$20.00\"}], \"price\": {\"value\": 20, \"raw\": \"$20.00\"}}, {\"position\": 59, \"title\": \"SanDisk High Endurance & Max Endurance 64GB 128GB 256GB MicroSD Memory Cards\", \"epid\": \"275192526191\", \"link\": \"https://www.ebay.com/itm/275192526191\", \"image\": \"https://i.ebayimg.com/images/g/oFUAAOSwf8hieRzM/s-l140.jpg\", \"condition\": \"Brand New\", \"seller_info\": {\"name\": \"memorydiscounters\", \"review_count\": 71478, \"positive_feedback_percent\": 99.9}, \"is_auction\": false, \"buy_it_now\": true, \"free_returns\": true, \"rating\": 5, \"ratings_total\": 22, \"sponsored\": true, \"prices\": [{\"value\": 12.65, \"raw\": \"$12.65\"}, {\"value\": 49.25, \"raw\": \"$49.25\"}], \"price\": {\"value\": 12.65, \"raw\": \"$12.65\"}}, {\"position\": 60, \"title\": \"2 PACK SanDisk Ultra 16 GB (= 32GB ) SDHC SD Class 10 40MB/S 266X Card UHS-I HD\", \"epid\": \"330875921014\", \"link\": \"https://www.ebay.com/itm/330875921014\", \"image\": \"https://i.ebayimg.com/images/g/nm4AAOSwrklVC5E1/s-l140.jpg\", \"condition\": \"Brand New\", \"seller_info\": {\"name\": \"allizwell2k10\", \"review_count\": 391920, \"positive_feedback_percent\": 99.5}, \"is_auction\": false, \"buy_it_now\": true, \"free_returns\": true, \"sponsored\": true, \"prices\": [{\"value\": 11.95, \"raw\": \"$11.95\"}], \"price\": {\"value\": 11.95, \"raw\": \"$11.95\"}}, {\"position\": 61, \"title\": \"Sandisk Extreme Micro SD Memory Card 32GB 64GB 128GB 256GB 512GB 1TB\", \"epid\": \"274525839545\", \"link\": \"https://www.ebay.com/itm/274525839545\", \"image\": \"https://i.ebayimg.com/images/g/A6MAAOSwVcFieRut/s-l140.jpg\", \"condition\": \"Brand New\", \"seller_info\": {\"name\": \"memorydiscounters\", \"review_count\": 71478, \"positive_feedback_percent\": 99.9}, \"is_auction\": false, \"buy_it_now\": true, \"free_returns\": true, \"rating\": 5, \"ratings_total\": 6, \"sponsored\": true, \"prices\": [{\"value\": 10.98, \"raw\": \"$10.98\"}, {\"value\": 118.96, \"raw\": \"$118.96\"}], \"price\": {\"value\": 10.98, \"raw\": \"$10.98\"}}, {\"position\": 62, \"title\": \"32GB Sandisk SD Memory cards  Digital Cameras/Trail Camera/Computers (10 pack)\", \"epid\": \"274475563470\", \"link\": \"https://www.ebay.com/itm/274475563470\", \"image\": \"https://i.ebayimg.com/images/g/32EAAOSwYF5jFhwV/s-l140.jpg\", \"condition\": \"Brand New\", \"seller_info\": {\"name\": \"memorydiscounters\", \"review_count\": 71478, \"positive_feedback_percent\": 99.9}, \"is_auction\": false, \"buy_it_now\": true, \"free_returns\": true, \"sponsored\": true, \"prices\": [{\"value\": 51.64, \"raw\": \"$51.64\"}], \"price\": {\"value\": 51.64, \"raw\": \"$51.64\"}}, {\"position\": 63, \"title\": \"SanDisk 16GB 32GB 64GB 128GB Ultra C10 UHS-I SD SDHC / SDXC Memory Card By Lot\", \"epid\": \"196166977241\", \"link\": \"https://www.ebay.com/itm/196166977241\", \"image\": \"https://i.ebayimg.com/images/g/-8MAAOSwaOBlivQk/s-l140.jpg\", \"condition\": \"Brand New\", \"seller_info\": {\"name\": \"gmdbrands\", \"review_count\": 15611, \"positive_feedback_percent\": 98.9}, \"is_auction\": false, \"buy_it_now\": true, \"free_returns\": false, \"sponsored\": true, \"prices\": [{\"value\": 7.77, \"raw\": \"$7.77\"}, {\"value\": 135.99, \"raw\": \"$135.99\"}], \"price\": {\"value\": 7.77, \"raw\": \"$7.77\"}}, {\"position\": 64, \"title\": \"SanDisk Ultra 32 GB SDHC SDXC SD Class 10 48MB/s 320x Memory Card SDSDUNB-032G\", \"epid\": \"282589308422\", \"link\": \"https://www.ebay.com/itm/282589308422\", \"image\": \"https://i.ebayimg.com/images/g/1jIAAOSw14xWJY8h/s-l140.jpg\", \"condition\": \"Brand New\", \"seller_info\": {\"name\": \"allizwell2k10\", \"review_count\": 391920, \"positive_feedback_percent\": 99.5}, \"is_auction\": false, \"buy_it_now\": true, \"free_returns\": true, \"rating\": 5, \"ratings_total\": 405, \"sponsored\": true, \"prices\": [{\"value\": 8.25, \"raw\": \"$8.25\"}], \"price\": {\"value\": 8.25, \"raw\": \"$8.25\"}}, {\"position\": 65, \"title\": \"SanDisk 8GB 16GB 32GB Memory Cards SD SDHC Class4 Camera Flash Card\", \"epid\": \"292917143915\", \"link\": \"https://www.ebay.com/itm/292917143915\", \"image\": \"https://i.ebayimg.com/images/g/UOsAAOSwFcJmTqtX/s-l140.jpg\", \"condition\": \"Brand New\", \"seller_info\": {\"name\": \"elec-x\", \"review_count\": 65397, \"positive_feedback_percent\": 98.9}, \"is_auction\": false, \"buy_it_now\": true, \"free_returns\": false, \"item_location\": \"from Taiwan\", \"shipping_cost\": 0.99, \"sponsored\": true, \"prices\": [{\"value\": 1.99, \"raw\": \"$1.99\"}, {\"value\": 6.79, \"raw\": \"$6.79\"}], \"price\": {\"value\": 1.99, \"raw\": \"$1.99\"}}, {\"position\": 66, \"title\": \"Sandisk Ultra SD Memory Card for Canon Digital Camera EOS Rebel T7 Rebel T6 77D\", \"epid\": \"275735980418\", \"link\": \"https://www.ebay.com/itm/275735980418\", \"image\": \"https://i.ebayimg.com/images/g/O-kAAOSwmdpkCjF8/s-l140.jpg\", \"condition\": \"Brand New\", \"seller_info\": {\"name\": \"memorydiscounters\", \"review_count\": 71478, \"positive_feedback_percent\": 99.9}, \"is_auction\": false, \"buy_it_now\": true, \"free_returns\": true, \"sponsored\": true, \"prices\": [{\"value\": 8.19, \"raw\": \"$8.19\"}, {\"value\": 131.9, \"raw\": \"$131.90\"}], \"price\": {\"value\": 8.19, \"raw\": \"$8.19\"}}, {\"position\": 67, \"title\": \"SandDisk Extreme Pro SD SDXC UHS-I U3 V30 200MB/s 4K HD Video Camera memory Card\", \"epid\": \"405181132580\", \"link\": \"https://www.ebay.com/itm/405181132580\", \"image\": \"https://i.ebayimg.com/images/g/enMAAOSw4UpmxW78/s-l140.jpg\", \"condition\": \"Brand New\", \"seller_info\": {\"name\": \"ecommasterz\", \"review_count\": 27, \"positive_feedback_percent\": 89.7}, \"is_auction\": false, \"buy_it_now\": true, \"free_returns\": true, \"sponsored\": true, \"prices\": [{\"value\": 59.99, \"raw\": \"$59.99\"}], \"price\": {\"value\": 59.99, \"raw\": \"$59.99\"}}, {\"position\": 68, \"title\": \"2 X SanDisk Ultra Plus 64GB SDXC V10 150MB/s Class 10 Memory Cards NEW\", \"epid\": \"276669050773\", \"link\": \"https://www.ebay.com/itm/276669050773\", \"image\": \"https://i.ebayimg.com/images/g/HIUAAOSwydpm~uq6/s-l140.jpg\", \"condition\": \"Brand New\", \"seller_info\": {\"name\": \"optimal_deals\", \"review_count\": 45728, \"positive_feedback_percent\": 99.9}, \"is_auction\": false, \"buy_it_now\": false, \"free_returns\": true, \"sponsored\": true, \"best_offer\": true, \"prices\": [{\"value\": 21.59, \"raw\": \"$21.59\"}], \"price\": {\"value\": 21.59, \"raw\": \"$21.59\"}}], \"search_information\": {\"original_search_term\": \"SanDisk memory cards\"}, \"facets\": [{\"display_name\": \"Storage Capacity\", \"values\": [{\"name\": \"32 GB\", \"param_value\": \"facets=Storage%2520Capacity=32+GB\", \"count\": 5499}, {\"name\": \"64 GB\", \"param_value\": \"facets=Storage%2520Capacity=64+GB\", \"count\": 1898}, {\"name\": \"128 GB\", \"param_value\": \"facets=Storage%2520Capacity=128+GB\", \"count\": 1369}, {\"name\": \"16 GB\", \"param_value\": \"facets=Storage%2520Capacity=16+GB\", \"count\": 1216}, {\"name\": \"256 GB\", \"param_value\": \"facets=Storage%2520Capacity=256+GB\", \"count\": 681}, {\"name\": \"2 GB\", \"param_value\": \"facets=Storage%2520Capacity=2+GB\", \"count\": 414}, {\"name\": \"8 GB\", \"param_value\": \"facets=Storage%2520Capacity=8+GB\", \"count\": 508}, {\"name\": \"512 GB\", \"param_value\": \"facets=Storage%2520Capacity=512+GB\", \"count\": 321}], \"name\": \"Storage%2520Capacity\"}, {\"display_name\": \"Format\", \"values\": [{\"name\": \"SD\", \"param_value\": \"facets=Format=SD\", \"count\": 2393}, {\"name\": \"SDHC\", \"param_value\": \"facets=Format=SDHC\", \"count\": 2094}, {\"name\": \"SDXC\", \"param_value\": \"facets=Format=SDXC\", \"count\": 1616}, {\"name\": \"CompactFlash\", \"param_value\": \"facets=Format=CompactFlash\", \"count\": 1146}, {\"name\": \"MicroSD\", \"param_value\": \"facets=Format=MicroSD\", \"count\": 1277}, {\"name\": \"SDXC UHS-I\", \"param_value\": \"facets=Format=SDXC+UHS-I\", \"count\": 826}, {\"name\": \"CompactFlash I\", \"param_value\": \"facets=Format=CompactFlash+I\", \"count\": 523}, {\"name\": \"microSDXC\", \"param_value\": \"facets=Format=microSDXC\", \"count\": 500}], \"name\": \"Format\"}, {\"display_name\": \"Speed Class\", \"values\": [{\"name\": \"Class 10\", \"param_value\": \"facets=Speed%2520Class=Class+10\", \"count\": 6409}, {\"name\": \"Class 4\", \"param_value\": \"facets=Speed%2520Class=Class+4\", \"count\": 715}, {\"name\": \"UHS Speed Class 3\", \"param_value\": \"facets=Speed%2520Class=UHS+Speed+Class+3\", \"count\": 331}, {\"name\": \"UHS Speed Class 1\", \"param_value\": \"facets=Speed%2520Class=UHS+Speed+Class+1\", \"count\": 212}, {\"name\": \"Class 6\", \"param_value\": \"facets=Speed%2520Class=Class+6\", \"count\": 47}, {\"name\": \"Class 2\", \"param_value\": \"facets=Speed%2520Class=Class+2\", \"count\": 170}, {\"name\": \"Class 3\", \"param_value\": \"facets=Speed%2520Class=Class+3\", \"count\": 118}, {\"name\": \"A1\", \"param_value\": \"facets=Speed%2520Class=A1\", \"count\": 114}], \"name\": \"Speed%2520Class\"}, {\"display_name\": \"Compatible Brand\", \"values\": [{\"name\": \"Universal\", \"param_value\": \"facets=Compatible%2520Brand=Universal\", \"count\": 4006}, {\"name\": \"For Nikon\", \"param_value\": \"facets=Compatible%2520Brand=For+Nikon\", \"count\": 1227}, {\"name\": \"For Canon\", \"param_value\": \"facets=Compatible%2520Brand=For+Canon\", \"count\": 1286}, {\"name\": \"For Sony\", \"param_value\": \"facets=Compatible%2520Brand=For+Sony\", \"count\": 1057}, {\"name\": \"For Panasonic\", \"param_value\": \"facets=Compatible%2520Brand=For+Panasonic\", \"count\": 392}, {\"name\": \"For Universal\", \"param_value\": \"facets=Compatible%2520Brand=For+Universal\", \"count\": 764}, {\"name\": \"For Kodak\", \"param_value\": \"facets=Compatible%2520Brand=For+Kodak\", \"count\": 453}, {\"name\": \"For GoPro\", \"param_value\": \"facets=Compatible%2520Brand=For+GoPro\", \"count\": 364}], \"name\": \"Compatible%2520Brand\"}, {\"display_name\": \"Features\", \"values\": [{\"name\": \"High Speed\", \"param_value\": \"facets=Features=High+Speed\", \"count\": 7039}, {\"name\": \"High Capacity\", \"param_value\": \"facets=Features=High+Capacity\", \"count\": 6829}, {\"name\": \"Waterproof\", \"param_value\": \"facets=Features=Waterproof\", \"count\": 6221}, {\"name\": \"Wi-Fi\", \"param_value\": \"facets=Features=Wi-Fi\", \"count\": 182}, {\"name\": \"Not Specified\", \"param_value\": \"facets=Features=Not+Specified\", \"count\": 5513}], \"name\": \"Features\"}, {\"display_name\": \"Compatible Model\", \"values\": [{\"name\": \"Universal\", \"param_value\": \"facets=Compatible%2520Model=Universal\", \"count\": 3330}, {\"name\": \"For Apple iPhone X\", \"param_value\": \"facets=Compatible%2520Model=For+Apple+iPhone+X\", \"count\": 57}, {\"name\": \"For Apple iPhone 11\", \"param_value\": \"facets=Compatible%2520Model=For+Apple+iPhone+11\", \"count\": 39}, {\"name\": \"For Apple iPhone 11 Pro\", \"param_value\": \"facets=Compatible%2520Model=For+Apple+iPhone+11+Pro\", \"count\": 39}, {\"name\": \"For Apple iPhone 11 Pro Max\", \"param_value\": \"facets=Compatible%2520Model=For+Apple+iPhone+11+Pro+Max\", \"count\": 39}, {\"name\": \"For Apple iPhone 13\", \"param_value\": \"facets=Compatible%2520Model=For+Apple+iPhone+13\", \"count\": 39}, {\"name\": \"For Apple iPhone 13 Pro\", \"param_value\": \"facets=Compatible%2520Model=For+Apple+iPhone+13+Pro\", \"count\": 39}, {\"name\": \"For Apple iPhone 13 Pro Max\", \"param_value\": \"facets=Compatible%2520Model=For+Apple+iPhone+13+Pro+Max\", \"count\": 39}], \"name\": \"Compatible%2520Model\"}, {\"display_name\": \"Country/Region of Manufacture\", \"values\": [{\"name\": \"China\", \"param_value\": \"facets=Country%252FRegion%2520of%2520Manufacture=China\", \"count\": 978}, {\"name\": \"Malaysia\", \"param_value\": \"facets=Country%252FRegion%2520of%2520Manufacture=Malaysia\", \"count\": 248}, {\"name\": \"Unknown\", \"param_value\": \"facets=Country%252FRegion%2520of%2520Manufacture=Unknown\", \"count\": 99}, {\"name\": \"Japan\", \"param_value\": \"facets=Country%252FRegion%2520of%2520Manufacture=Japan\", \"count\": 96}, {\"name\": \"Taiwan\", \"param_value\": \"facets=Country%252FRegion%2520of%2520Manufacture=Taiwan\", \"count\": 79}, {\"name\": \"United States\", \"param_value\": \"facets=Country%252FRegion%2520of%2520Manufacture=United+States\", \"count\": 34}, {\"name\": \"Korea, Republic of\", \"param_value\": \"facets=Country%252FRegion%2520of%2520Manufacture=Korea,+Republic+of\", \"count\": 8}, {\"name\": \"Thailand\", \"param_value\": \"facets=Country%252FRegion%2520of%2520Manufacture=Thailand\", \"count\": 5}], \"name\": \"Country%252FRegion%2520of%2520Manufacture\"}, {\"display_name\": \"Series\", \"values\": [{\"name\": \"Samsung PRO\", \"param_value\": \"facets=Series=Samsung+PRO\", \"count\": 82}, {\"name\": \"Samsung EVO\", \"param_value\": \"facets=Series=Samsung+EVO\", \"count\": 58}, {\"name\": \"Not Specified\", \"param_value\": \"facets=Series=Not+Specified\", \"count\": 11813}], \"name\": \"Series\"}, {\"display_name\": \"Brand\", \"values\": [{\"name\": \"SanDisk\", \"param_value\": \"facets=Brand=SanDisk\", \"count\": 9397}, {\"name\": \"Sony\", \"param_value\": \"facets=Brand=Sony\", \"count\": 28}, {\"name\": \"Lexar\", \"param_value\": \"facets=Brand=Lexar\", \"count\": 24}, {\"name\": \"Kingston\", \"param_value\": \"facets=Brand=Kingston\", \"count\": 7}, {\"name\": \"Olympus\", \"param_value\": \"facets=Brand=Olympus\", \"count\": 8}, {\"name\": \"Transcend\", \"param_value\": \"facets=Brand=Transcend\", \"count\": 28}, {\"name\": \"PNY\", \"param_value\": \"facets=Brand=PNY\", \"count\": 11}, {\"name\": \"Unbranded\", \"param_value\": \"facets=Brand=Unbranded\", \"count\": 111}], \"name\": \"Brand\"}, {\"display_name\": \"Show only\", \"values\": [{\"name\": \"Free Returns\", \"param_value\": \"facets=LH_FR=Free+Returns\"}, {\"name\": \"Returns Accepted\", \"param_value\": \"facets=LH_FR=Returns+Accepted\"}, {\"name\": \"Authorized Seller\", \"param_value\": \"facets=LH_FR=Authorized+Seller\"}, {\"name\": \"Completed Items\", \"param_value\": \"facets=LH_FR=Completed+Items\"}, {\"name\": \"Sold Items\", \"param_value\": \"facets=LH_FR=Sold+Items\"}, {\"name\": \"Deals & Savings\", \"param_value\": \"facets=LH_FR=Deals+&+Savings\"}, {\"name\": \"Authenticity Guarantee\", \"param_value\": \"facets=LH_FR=Authenticity+Guarantee\"}], \"name\": \"LH_FR\"}], \"pagination\": {\"has_next_page\": true, \"next_page\": 2, \"current_page\": 1, \"total_results\": 8000}}\n",
      "==================================\u001b[1m Ai Message \u001b[0m==================================\n",
      "\n",
      "Here are some options for SanDisk memory cards available on eBay:\n",
      "\n",
      "1. **Pack of 10 Genuine SanDisk 16GB Class 4 SD SDHC Flash Memory Card SDSDB-016G lot**\n",
      "   - Price: $39.97\n",
      "   - Condition: Open Box\n",
      "   - [View on eBay](https://www.ebay.com/itm/405071797164)\n",
      "   - ![Image](https://i.ebayimg.com/images/g/lFMAAOSwjRVnRwBc/s-l500.jpg)\n",
      "\n",
      "2. **SanDisk 32GB Extreme C10 V30 UHS-I U3 SD 100MBs SDHC Memory card Pack of 5 Lot**\n",
      "   - Price: $42.49\n",
      "   - Condition: Brand New\n",
      "   - [View on eBay](https://www.ebay.com/itm/195435460588)\n",
      "   - ![Image](https://i.ebayimg.com/images/g/BOMAAOSwBRVjWTcJ/s-l500.jpg)\n",
      "\n",
      "3. **Sandisk SD Extreme PRO 32GB 64GB 128GB 256GB 512GB 1TB Memory Card Nikon Canon**\n",
      "   - Price: Starting from $19.99\n",
      "   - Condition: Brand New\n",
      "   - [View on eBay](https://www.ebay.com/itm/204440376680)\n",
      "   - ![Image](https://i.ebayimg.com/images/g/fvoAAOSwKytlTAQz/s-l140.jpg)\n",
      "\n",
      "4. **SanDisk SD 64GB Ultra SDHC UHS-I / Class 10 Memory Card, Speed Up to 120MB/s**\n",
      "   - Price: $7.47\n",
      "   - Condition: Open Box\n",
      "   - [View on eBay](https://www.ebay.com/itm/156294481766)\n",
      "   - ![Image](https://i.ebayimg.com/images/g/QngAAOSwPtlmjKia/s-l140.jpg)\n",
      "\n",
      "5. **SanDisk 32GB Ultra SDHC UHS-I Memory Card Class 10 120 MB/s Full HD Camera**\n",
      "   - Price: $7.80\n",
      "   - Condition: Brand New\n",
      "   - [View on eBay](https://www.ebay.com/itm/193904175450)\n",
      "   - ![Image](https://i.ebayimg.com/images/g/5dsAAOSwCeRgyfwN/s-l140.jpg)\n",
      "\n",
      "For more options, you can visit the full [eBay search results](https://www.ebay.com/sch/i.html?_nkw=SanDisk+memory+cards&_sacat=0&_dmd=1&_fcid=1).\n"
     ]
    }
   ],
   "source": [
    "inputs = {\"messages\": [(\"user\", QUESTION)]}\n",
    "\n",
    "print_stream(graph.stream(inputs, stream_mode=\"values\"))"
   ]
  },
  {
   "cell_type": "markdown",
   "id": "56cbc405-26e2-471e-9626-2a0df07f5ddc",
   "metadata": {},
   "source": [
    "# Summary"
   ]
  },
  {
   "cell_type": "markdown",
   "id": "7381ea5f-7269-4e1f-8b0c-1e2c04bd84c0",
   "metadata": {},
   "source": [
    "In this notebook, we learned about how to create very smart API agents for simple or complex APIs that use Swagger or OpenAPI specifications.\n",
    "We see, again, that the key to success is to use: Agents with Expert tools + GPT-4 + good prompts.\n",
    "\n",
    "As homework, try to create a shopping assistant for Etsy e-commerce site using the following API spec: (you will need to register for free and create an API-Key)\n",
    "\n",
    "- https://developers.etsy.com/documentation/\n",
    "- https://www.etsy.com/openapi/generated/oas/3.0.0.json"
   ]
  },
  {
   "cell_type": "markdown",
   "id": "02073623-91b4-40d6-8eaf-cb6d9c6a7a9a",
   "metadata": {},
   "source": [
    "# NEXT\n",
    "\n",
    "The Next Notebook will guide you on how to add vision and audio to our engine."
   ]
  },
  {
   "cell_type": "code",
   "execution_count": null,
   "id": "32a33c2f-9487-4996-9da8-f57f0f1f314c",
   "metadata": {},
   "outputs": [],
   "source": []
  }
 ],
 "metadata": {
  "kernelspec": {
   "display_name": "GPTSearch2 (Python 3.12)",
   "language": "python",
   "name": "gptsearch2"
  },
  "language_info": {
   "codemirror_mode": {
    "name": "ipython",
    "version": 3
   },
   "file_extension": ".py",
   "mimetype": "text/x-python",
   "name": "python",
   "nbconvert_exporter": "python",
   "pygments_lexer": "ipython3",
   "version": "3.12.8"
  }
 },
 "nbformat": 4,
 "nbformat_minor": 5
}
