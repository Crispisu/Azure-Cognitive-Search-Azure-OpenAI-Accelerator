{
 "cells": [
  {
   "cell_type": "markdown",
   "id": "6423f8f3-a592-4ee7-9969-39e38933be52",
   "metadata": {},
   "source": [
    "# Putting it all together"
   ]
  },
  {
   "cell_type": "markdown",
   "id": "06bf854d-94d7-4a65-952a-22c7999a9a9b",
   "metadata": {},
   "source": [
    "So far we have done the following on the prior Notebooks:\n",
    "\n",
    "- **Notebook 01**: We loaded the Azure Search Engine with thousands of files in index: \"srch-index-files\"\n",
    "- **Notebook 02**: We loaded more information to the Search Engine this time using a CSV file with 90k rows/articles in index: \"srch-index-csv\"\n",
    "- **Notebook 03**: We added AzureOpenAI GPT models to enhance the the production of the answer by using Utility Chains of LLMs\n",
    "- **Notebook 04**: We manually loaded an index with large/complex PDFs information , \"srch-index-books\"\n",
    "- **Notebook 05**: We added memory to our system in order to power a conversational Chat Bot\n",
    "- **Notebook 06**: We introduced Agents and Graphs and built the first Skill/Agent, that can do RAG over a search engine\n",
    "- **Notebook 07**: We build a second Agent in order to be able to solve a more complex task: ask questions to Tabular datasets on CSV files\n",
    "- **Notebook 08**: We build a SQL Agent in order to talk to a SQL Database directly\n",
    "- **Notebook 09**: We used another  Agent in order to talk to the Bing Search API and create a Copilot Clone\n",
    "- **Notebook 10**: We built an API Agent that can translate a question into the right API calls, giving us the capability to talk to any datasource that provides a RESTFul API.\n",
    "\n",
    "\n",
    "We are missing one more thing: **How do we glue all these features together into a very smart GPT Smart Search Engine Chat Agent?**\n",
    "\n",
    "We want a virtual assistant for our company that can get the question, think what tool to use, then get the answer. The goal is that, regardless of the source of the information (Search Engine, Bing Search, SQL Database, CSV File, JSON File, APIs, etc), the Smart Agent/Assistant can answer the question correctly using the right tool.\n",
    "\n",
    "In this Notebook we are going to create a Smart Agent (also called Supervisor Agent), that:\n",
    "\n",
    "1) understands the user input \n",
    "2) talks to other specialized Agents that are connected to diferent tools/sources\n",
    "3) once it get's the answer it delivers it to the user or let the specialized Agent to deliver it directly\n",
    "\n",
    "This is an image of the agentic architecture:"
   ]
  },
  {
   "cell_type": "markdown",
   "id": "1d7fa9dc-64cb-4ee2-ae98-8cdb72293cbe",
   "metadata": {},
   "source": [
    "![image](https://langchain-ai.github.io/langgraphjs/tutorials/multi_agent/img/supervisor-diagram.png)"
   ]
  },
  {
   "cell_type": "code",
   "execution_count": 1,
   "id": "30b81551-92ac-4f08-9c00-ba11981c67c2",
   "metadata": {
    "tags": []
   },
   "outputs": [],
   "source": [
    "import os\n",
    "import random\n",
    "import json\n",
    "import uuid\n",
    "import requests\n",
    "import logging\n",
    "import functools\n",
    "import operator\n",
    "from pydantic import BaseModel\n",
    "from typing import Annotated, Sequence, Literal\n",
    "from typing_extensions import TypedDict\n",
    "\n",
    "from langchain_openai import AzureChatOpenAI\n",
    "from langchain_core.prompts import PromptTemplate, ChatPromptTemplate, MessagesPlaceholder\n",
    "from langchain_core.messages import AIMessage, HumanMessage, BaseMessage\n",
    "\n",
    "from langgraph.graph import END, StateGraph, START\n",
    "from langgraph.checkpoint.serde.jsonplus import JsonPlusSerializer\n",
    "\n",
    "\n",
    "#custom libraries that we will use later in the app\n",
    "from common.utils import (\n",
    "    create_docsearch_agent,\n",
    "    create_csvsearch_agent,\n",
    "    create_sqlsearch_agent,\n",
    "    create_websearch_agent,\n",
    "    create_apisearch_agent,\n",
    "    reduce_openapi_spec\n",
    ")\n",
    "from common.cosmosdb_checkpointer import CosmosDBSaver, AsyncCosmosDBSaver\n",
    "\n",
    "from common.prompts import (\n",
    "    CUSTOM_CHATBOT_PREFIX,\n",
    "    DOCSEARCH_PROMPT_TEXT,\n",
    "    CSV_AGENT_PROMPT_TEXT,\n",
    "    MSSQL_AGENT_PROMPT_TEXT,\n",
    "    BING_PROMPT_TEXT,\n",
    "    APISEARCH_PROMPT_TEXT,\n",
    "    SUPERVISOR_PROMPT_TEXT\n",
    ")\n",
    "\n",
    "from dotenv import load_dotenv\n",
    "load_dotenv(\"credentials.env\")\n",
    "\n",
    "from IPython.display import Image, Markdown, Audio, display \n",
    "\n",
    "from common.audio_utils import text_to_speech \n",
    "\n",
    "def play_audio(file_path):\n",
    "    \"\"\"Play an audio file in Jupyter Notebook.\"\"\"\n",
    "    display(Audio(file_path, autoplay=True))\n",
    "\n",
    "def printmd(string):\n",
    "    # Remove ```markdown and ``` from the text\n",
    "    clean_content = re.sub(r'^```markdown\\n', '', string)\n",
    "    clean_content = re.sub(r'^```\\n', '', clean_content)\n",
    "    clean_content = re.sub(r'\\n```$', '', clean_content)\n",
    "\n",
    "    # Escape dollar signs to prevent LaTeX rendering\n",
    "    clean_content = clean_content.replace('$', r'\\$')\n",
    "    display(Markdown(clean_content))\n"
   ]
  },
  {
   "cell_type": "code",
   "execution_count": 2,
   "id": "62ff714c-309f-42a5-8818-2946607e0884",
   "metadata": {
    "tags": []
   },
   "outputs": [],
   "source": [
    "# # Get the root logger\n",
    "# root_logger = logging.getLogger()\n",
    "# root_logger.setLevel(logging.ERROR)  # Set the root logger level to INFO, ERROR, DEBUG"
   ]
  },
  {
   "cell_type": "code",
   "execution_count": 3,
   "id": "67cd1e3e-8527-4a8f-ba90-e700ae7b20ad",
   "metadata": {
    "tags": []
   },
   "outputs": [],
   "source": [
    "os.environ[\"OPENAI_API_VERSION\"] = os.environ[\"AZURE_OPENAI_API_VERSION\"]"
   ]
  },
  {
   "cell_type": "code",
   "execution_count": 4,
   "id": "643d1650-6416-46fd-8b21-f5fb298ec063",
   "metadata": {
    "tags": []
   },
   "outputs": [],
   "source": [
    "COMPLETION_TOKENS = 2000\n",
    "\n",
    "llm = AzureChatOpenAI(deployment_name=os.environ[\"GPT4o_DEPLOYMENT_NAME\"], \n",
    "                      temperature=0, max_tokens=COMPLETION_TOKENS, \n",
    "                      streaming=True)\n"
   ]
  },
  {
   "cell_type": "markdown",
   "id": "56b56a94-0471-41c3-b441-3a73ff5dedfc",
   "metadata": {},
   "source": [
    "### Create the Specialized Agents\n",
    "\n",
    "**Consider the following concept:** Agents, which are essentially software entities designed to perform specific tasks, can be equipped with tools. These tools themselves can be other agents, each possessing their own set of tools. This creates a layered structure where tools can range from code sequences to human actions, forming interconnected chains. Ultimately, you're constructing a network of agents and their respective tools, all collaboratively working towards solving a specific task (This is what ChatGPT is). This network operates by leveraging the unique capabilities of each agent and tool, creating a dynamic and efficient system for task resolution.\n",
    "\n",
    "In the file `common/utils.py` we created LangGraph Agents for each of the Functionalities that we developed in prior Notebooks. "
   ]
  },
  {
   "cell_type": "markdown",
   "id": "8fab607e-898c-4e71-9c53-b0231f179fcc",
   "metadata": {},
   "source": [
    "#### **DocSearch Agent**"
   ]
  },
  {
   "cell_type": "code",
   "execution_count": 5,
   "id": "c43c4f74-2fdc-467d-8d72-3fba46699957",
   "metadata": {
    "tags": []
   },
   "outputs": [],
   "source": [
    "indexes = [\"srch-index-files\", \"srch-index-csv\", \"srch-index-books\"]\n",
    "docsearch_agent = create_docsearch_agent(llm,indexes,k=20,reranker_th=1.5,\n",
    "                                         prompt=CUSTOM_CHATBOT_PREFIX + DOCSEARCH_PROMPT_TEXT,\n",
    "                                         sas_token=os.environ['BLOB_SAS_TOKEN']\n",
    "                                        )"
   ]
  },
  {
   "cell_type": "markdown",
   "id": "8f8e91c1-7d04-40d0-89af-e1a22dd37ace",
   "metadata": {},
   "source": [
    "#### **CSVSearch Agent**"
   ]
  },
  {
   "cell_type": "code",
   "execution_count": 6,
   "id": "5d630731-3635-4a08-b9fa-694dc1594bbf",
   "metadata": {
    "tags": []
   },
   "outputs": [],
   "source": [
    "file_url = \"./data/all-states-history.csv\"\n",
    "csvsearch_agent = create_csvsearch_agent(llm,\n",
    "                                         prompt=CUSTOM_CHATBOT_PREFIX + CSV_AGENT_PROMPT_TEXT.format(file_url=file_url))"
   ]
  },
  {
   "cell_type": "markdown",
   "id": "9773d62a-366e-4f9d-8b1a-8fd48cd3660b",
   "metadata": {
    "tags": []
   },
   "source": [
    "#### **SQLSearch Agent**"
   ]
  },
  {
   "cell_type": "code",
   "execution_count": 7,
   "id": "4c23215e-eb42-4fce-b667-7a4991ecc02b",
   "metadata": {
    "tags": []
   },
   "outputs": [],
   "source": [
    "sqlsearch_agent = create_sqlsearch_agent(llm, \n",
    "                                     prompt=CUSTOM_CHATBOT_PREFIX + MSSQL_AGENT_PROMPT_TEXT)"
   ]
  },
  {
   "cell_type": "markdown",
   "id": "b10fd9c6-b4e6-47c6-a040-1e068b5278dc",
   "metadata": {
    "tags": []
   },
   "source": [
    "#### **WebSearch Agent**"
   ]
  },
  {
   "cell_type": "code",
   "execution_count": 8,
   "id": "f1bf7b68-646f-4ec4-913e-1033f5b20cc8",
   "metadata": {
    "tags": []
   },
   "outputs": [],
   "source": [
    "websearch_agent = create_websearch_agent(llm, \n",
    "                                     prompt=CUSTOM_CHATBOT_PREFIX + BING_PROMPT_TEXT)"
   ]
  },
  {
   "cell_type": "markdown",
   "id": "c65a8292-e609-4619-b502-2da7d2ff410b",
   "metadata": {
    "tags": []
   },
   "source": [
    "#### **APISearch Agent**"
   ]
  },
  {
   "cell_type": "code",
   "execution_count": 9,
   "id": "8e936e8a-b3bf-43c0-a626-4c10148af6fb",
   "metadata": {
    "tags": []
   },
   "outputs": [],
   "source": [
    "api_file_path = \"./data/openapi_kraken.json\"\n",
    "with open(api_file_path, 'r') as file:\n",
    "    spec = json.load(file)\n",
    "    \n",
    "reduced_api_spec = reduce_openapi_spec(spec)\n",
    "\n",
    "apisearch_agent = create_apisearch_agent(llm, \n",
    "                                     prompt=CUSTOM_CHATBOT_PREFIX + APISEARCH_PROMPT_TEXT.format(api_spec=reduced_api_spec))"
   ]
  },
  {
   "cell_type": "markdown",
   "id": "83664e6f-6995-4584-80d0-f4424647944b",
   "metadata": {},
   "source": [
    "### Helper Utilities¶\n",
    "Define helper functions that we will use to create the nodes in the graph - it takes care of converting the agent response to an AI message. This is important because that is how we will add it the global state of the graph"
   ]
  },
  {
   "cell_type": "code",
   "execution_count": 10,
   "id": "416b63ae-d00d-4023-8a04-5435ea01be4d",
   "metadata": {
    "tags": []
   },
   "outputs": [],
   "source": [
    "def agent_node(state, agent, name):\n",
    "    result = agent.invoke(state)\n",
    "    return {\n",
    "        \"messages\": [AIMessage(content=result[\"messages\"][-1].content, name=name)]\n",
    "    }\n",
    "\n",
    "async def agent_node_async(state, agent, name):\n",
    "    result = await agent.ainvoke(state)\n",
    "    return {\n",
    "        \"messages\": [AIMessage(content=result[\"messages\"][-1].content, name=name)]\n",
    "    }"
   ]
  },
  {
   "cell_type": "markdown",
   "id": "b40c5f0e-b6b5-49e4-8170-e80419b71dca",
   "metadata": {},
   "source": [
    "Define functions to print the events and respond with Audio.\n",
    "\n",
    "These are two different ways to print and stream the answers and events"
   ]
  },
  {
   "cell_type": "code",
   "execution_count": 11,
   "id": "6abb7138-a982-460a-9522-97768bce5a74",
   "metadata": {
    "tags": []
   },
   "outputs": [],
   "source": [
    "# Define a sync function to stream graph updates\n",
    "def stream_graph_updates_sync(user_input: str, graph, config):\n",
    "    last_agent_message = \"\"  # Will hold the latest AIMessage content\n",
    "\n",
    "    for event in graph.stream({\"messages\": [(\"human\", user_input)]}, config, stream_mode=\"updates\"):\n",
    "        print(event)  # Print the raw event\n",
    "\n",
    "        # Each event is a dict, e.g. {\"WebSearchAgent\": {...}} or {\"supervisor\": {\"next\": \"...\"}}\n",
    "        if isinstance(event, dict):\n",
    "            for key, value in event.items():\n",
    "                # 1) If this is an agent event, store the latest AIMessage content\n",
    "                if isinstance(value, dict) and \"messages\" in value:\n",
    "                    # The messages are usually a list of AIMessage or similar objects\n",
    "                    messages = value[\"messages\"]\n",
    "                    if messages:\n",
    "                        # Grab the last message\n",
    "                        last_msg = messages[-1]\n",
    "                        # If it's an AIMessage, you can get `.content`\n",
    "                        # Adjust as needed for your data structure\n",
    "                        last_agent_message = getattr(last_msg, \"content\", str(last_msg))\n",
    "\n",
    "                # 2) If supervisor says \"next\": \"FINISH\", we've hit the end\n",
    "                if key == \"supervisor\":\n",
    "                    if value.get(\"next\") == \"FINISH\" and last_agent_message:\n",
    "                        # This is the final step -> TTS on last_agent_message\n",
    "                        tts_audio_file = text_to_speech(last_agent_message)\n",
    "                        if tts_audio_file:\n",
    "                            play_audio(tts_audio_file)\n",
    "\n",
    "\n",
    "\n",
    "# Define an async function to stream events async\n",
    "async def stream_graph_updates_async(user_input: str, graph, config):\n",
    "    inputs = {\"messages\": [(\"human\", user_input)]}\n",
    "    complete_text = \"\"  # Store the full response text for TTS\n",
    "\n",
    "    async for event in graph.astream_events(inputs, config, version=\"v2\"):\n",
    "        if (\n",
    "            event[\"event\"] == \"on_chat_model_stream\"  # Ensure the event is a chat stream event\n",
    "            and event[\"metadata\"].get(\"langgraph_node\") == \"agent\"\n",
    "        ):\n",
    "            # Print the content of the chunk progressively\n",
    "            chunk_text = event[\"data\"][\"chunk\"].content\n",
    "            print(chunk_text, end=\"\", flush=True)\n",
    "            complete_text += chunk_text  # Accumulate chunks of text\n",
    "\n",
    "        if (\n",
    "            event[\"event\"] == \"on_tool_start\"  \n",
    "            and event[\"metadata\"].get(\"langgraph_node\") == \"tools\"  # Ensure it's from the tools node\n",
    "        ):\n",
    "            print(\"\\n--\")\n",
    "            print(f\"Starting tool: {event['name']} with inputs: {event['data'].get('input')}\")\n",
    "            print(\"--\")\n",
    "        if (\n",
    "            event[\"event\"] == \"on_tool_end\"  # Ensure the event is a chat stream event\n",
    "            and event[\"metadata\"].get(\"langgraph_node\") == \"tools\"  # Ensure it's from the chatbot node\n",
    "        ):\n",
    "            print(\"\\n--\")\n",
    "            print(f\"Done tool: {event['name']}\")\n",
    "            print(\"--\")\n",
    "            \n",
    "        if (\n",
    "            event[\"event\"] == \"on_chain_end\"\n",
    "            and event.get(\"name\") == \"LangGraph\"\n",
    "        ):\n",
    "            # Check if the chain truly ended\n",
    "            output_data = event[\"data\"].get(\"output\", {})\n",
    "            if output_data.get(\"next\") == \"FINISH\":\n",
    "                # Ensure complete_text has the final message\n",
    "                if complete_text:\n",
    "                    # Text-to-Speech conversion and playback\n",
    "                    tts_audio_file = text_to_speech(complete_text)\n",
    "                    if tts_audio_file:\n",
    "                        play_audio(tts_audio_file)\n",
    "\n",
    "    "
   ]
  },
  {
   "cell_type": "markdown",
   "id": "b9f80845-7392-4066-92b9-4ff9b769830e",
   "metadata": {},
   "source": [
    "### State of the Graph\n",
    "The state is the input to each node in the graph"
   ]
  },
  {
   "cell_type": "code",
   "execution_count": 12,
   "id": "ceb421de-5ceb-4a2d-b721-658fb7d2243b",
   "metadata": {
    "tags": []
   },
   "outputs": [],
   "source": [
    "# The agent state is the input to each node in the graph\n",
    "class AgentState(TypedDict):\n",
    "    # The annotation tells the graph that new messages will always\n",
    "    # be added to the current states\n",
    "    messages: Annotated[Sequence[BaseMessage], operator.add]\n",
    "    # The 'next' field indicates where to route to next\n",
    "    next: str\n"
   ]
  },
  {
   "cell_type": "markdown",
   "id": "c5290d85-ba50-4f9c-8a60-70a5e2682629",
   "metadata": {},
   "source": [
    "### Create Supervisor Node"
   ]
  },
  {
   "cell_type": "code",
   "execution_count": 13,
   "id": "ca0002f7-c7d6-4fd7-88e3-b7cac1d1a04a",
   "metadata": {
    "tags": []
   },
   "outputs": [],
   "source": [
    "members = [\"DocSearchAgent\", \"SQLSearchAgent\", \"CSVSearchAgent\", \"WebSearchAgent\", \"APISearchAgent\"]\n",
    "\n",
    "system_prompt = SUPERVISOR_PROMPT_TEXT\n",
    "\n",
    "# The supervisor is an LLM node. It just picks the next agent to process\n",
    "# and decides when the work is completed\n",
    "options = [\"FINISH\"] + members\n",
    "\n",
    "# routeResponse is a model class used to represent the structure of the response data. In this case, it acts as a structured output model to ensure that the data being returned or processed matches a specific format.\n",
    "class routeResponse(BaseModel):\n",
    "    # The class has one field, next, which specifies the expected type of data for that field.\n",
    "    # By using Literal[tuple(options)], you are specifying that the next attribute in routeResponse can only take one of the exact values from options. \n",
    "    next: Literal[tuple(options)]\n",
    "\n",
    "\n",
    "prompt = ChatPromptTemplate.from_messages(\n",
    "    [\n",
    "        (\"system\", system_prompt),\n",
    "        MessagesPlaceholder(variable_name=\"messages\"),\n",
    "        (\n",
    "            \"system\",\n",
    "            \"Given the conversation above, who should act next?\"\n",
    "            \" Or should we FINISH? Select one of: {options}\\n.\",\n",
    "        ),\n",
    "    ]\n",
    ").partial(options=str(options))\n",
    "\n",
    "\n",
    "# We will use function calling to choose the next worker node OR finish processing.\n",
    "def supervisor_node(state):\n",
    "    supervisor_chain = prompt | llm.with_structured_output(routeResponse)\n",
    "    return supervisor_chain.invoke(state)\n",
    "\n",
    "async def supervisor_node_async(state):\n",
    "    supervisor_chain = prompt | llm.with_structured_output(routeResponse)\n",
    "    return await supervisor_chain.ainvoke(state)"
   ]
  },
  {
   "cell_type": "markdown",
   "id": "b867f1bc-9981-4f1b-abf0-c5dbab521b4d",
   "metadata": {},
   "source": [
    "### Construct the SYNC graph of our application"
   ]
  },
  {
   "cell_type": "code",
   "execution_count": 14,
   "id": "b82490f9-6bb7-43c5-88d8-0d5a80d92739",
   "metadata": {
    "tags": []
   },
   "outputs": [
    {
     "data": {
      "text/plain": [
       "<langgraph.graph.state.StateGraph at 0x7fdc5462aba0>"
      ]
     },
     "execution_count": 14,
     "metadata": {},
     "output_type": "execute_result"
    }
   ],
   "source": [
    "# By using functools.partial, we are creating a new function where the agent and name arguments are already set\n",
    "# This approach makes the code more modular and reusable. \n",
    "# When you need to call a node , you only need to provide the \"state\" argument because agent and name are already specified.\n",
    "\n",
    "docsearch_agent_node = functools.partial(agent_node, agent=docsearch_agent, name=\"DocSearchAgent\")\n",
    "sqlsearch_agent_node = functools.partial(agent_node, agent=sqlsearch_agent, name=\"SQLSearchAgent\")\n",
    "csvsearch_agent_node = functools.partial(agent_node, agent=csvsearch_agent, name=\"CSVSearchAgent\")\n",
    "websearch_agent_node = functools.partial(agent_node, agent=websearch_agent, name=\"WebSearchAgent\")\n",
    "apisearch_agent_node = functools.partial(agent_node, agent=apisearch_agent, name=\"APISearchAgent\")\n",
    "\n",
    "workflow = StateGraph(AgentState)\n",
    "workflow.add_node(\"DocSearchAgent\", docsearch_agent_node)\n",
    "workflow.add_node(\"SQLSearchAgent\", sqlsearch_agent_node)\n",
    "workflow.add_node(\"CSVSearchAgent\", csvsearch_agent_node)\n",
    "workflow.add_node(\"WebSearchAgent\", websearch_agent_node)\n",
    "workflow.add_node(\"APISearchAgent\", apisearch_agent_node)\n",
    "workflow.add_node(\"supervisor\", supervisor_node)\n",
    "\n",
    "# Connect the edges from each member to the supervisor\n",
    "for member in members:\n",
    "    # We want our workers to ALWAYS \"report back\" to the supervisor when done\n",
    "    workflow.add_edge(member, \"supervisor\")\n",
    "\n",
    "# Connect the supervisor to the members with a condition\n",
    "conditional_map = {k: k for k in members}\n",
    "conditional_map[\"FINISH\"] = END\n",
    "# This lambda function acts as the condition that extracts the \"next\" field from the current state. \n",
    "# The add_conditional_edges method then uses this output to check the conditional_map and route the workflow accordingly.\n",
    "workflow.add_conditional_edges(\"supervisor\", lambda x: x[\"next\"], conditional_map)\n",
    "\n",
    "# Finally, add entrypoint\n",
    "workflow.add_edge(START, \"supervisor\")"
   ]
  },
  {
   "cell_type": "markdown",
   "id": "193e089b-9c07-4137-b767-23453c71bc50",
   "metadata": {
    "tags": []
   },
   "source": [
    "### Compile SYNC Graph with CosmosDB as persistent memory"
   ]
  },
  {
   "cell_type": "code",
   "execution_count": 15,
   "id": "c5f3141a-6715-4bcd-aea1-aeebec6e4827",
   "metadata": {
    "tags": []
   },
   "outputs": [
    {
     "data": {
      "image/png": "[encoded data removed]",
      "text/plain": [
       "<IPython.core.display.Image object>"
      ]
     },
     "metadata": {},
     "output_type": "display_data"
    }
   ],
   "source": [
    "checkpointer_sync = CosmosDBSaver(\n",
    "    endpoint=os.environ[\"AZURE_COSMOSDB_ENDPOINT\"],\n",
    "    key=os.environ[\"AZURE_COSMOSDB_KEY\"],\n",
    "    database_name=os.environ[\"AZURE_COSMOSDB_NAME\"],\n",
    "    container_name=os.environ[\"AZURE_COSMOSDB_CONTAINER_NAME\"],\n",
    "    serde=JsonPlusSerializer(),\n",
    ")\n",
    "\n",
    "# Manually initialize resources\n",
    "checkpointer_sync.setup()\n",
    "\n",
    "# Compile the synchronous graph after setup is complete\n",
    "graph_sync = workflow.compile(checkpointer=checkpointer_sync)\n",
    "\n",
    "# Define a test thread_id to store in the persistent storage\n",
    "config_sync = {\"configurable\": {\"thread_id\": str(uuid.uuid4())}}\n",
    "\n",
    "display(Image(graph_sync.get_graph().draw_mermaid_png()))"
   ]
  },
  {
   "cell_type": "markdown",
   "id": "d0a7d1f9-da7d-4272-b3d2-b9c6dc91fb8e",
   "metadata": {
    "tags": []
   },
   "source": [
    "### Run SYNC App"
   ]
  },
  {
   "cell_type": "code",
   "execution_count": 16,
   "id": "2d5aacd7-c6ea-4928-bcc2-b145a50019a9",
   "metadata": {
    "tags": []
   },
   "outputs": [
    {
     "name": "stdout",
     "output_type": "stream",
     "text": [
      "Running the synchronous agent:\n"
     ]
    },
    {
     "name": "stdin",
     "output_type": "stream",
     "text": [
      "User:  hey there\n"
     ]
    },
    {
     "name": "stdout",
     "output_type": "stream",
     "text": [
      "{'supervisor': {'next': 'WebSearchAgent'}}\n",
      "{'WebSearchAgent': {'messages': [AIMessage(content='Hello! How can I assist you today?', additional_kwargs={}, response_metadata={}, name='WebSearchAgent')]}}\n",
      "{'supervisor': {'next': 'FINISH'}}\n"
     ]
    },
    {
     "data": {
      "text/html": [
       "\n",
       "                <audio  controls=\"controls\" autoplay=\"autoplay\">\n",
       "                    <source src=\"data:audio/x-wav;base64,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\" type=\"audio/x-wav\" />\n",
       "                    Your browser does not support the audio element.\n",
       "                </audio>\n",
       "              "
      ],
      "text/plain": [
       "<IPython.lib.display.Audio object>"
      ]
     },
     "metadata": {},
     "output_type": "display_data"
    },
    {
     "name": "stdin",
     "output_type": "stream",
     "text": [
      "User:  @docsearch, how do I go to a restaurant in dallas\n"
     ]
    },
    {
     "name": "stdout",
     "output_type": "stream",
     "text": [
      "{'supervisor': {'next': 'DocSearchAgent'}}\n",
      "{'DocSearchAgent': {'messages': [AIMessage(content='The tools did not provide relevant information for this question. I cannot answer this from prior knowledge.', additional_kwargs={}, response_metadata={}, name='DocSearchAgent')]}}\n",
      "{'supervisor': {'next': 'WebSearchAgent'}}\n",
      "{'WebSearchAgent': {'messages': [AIMessage(content='Hello! How can I assist you today?', additional_kwargs={}, response_metadata={}, name='WebSearchAgent')]}}\n",
      "{'supervisor': {'next': 'FINISH'}}\n"
     ]
    },
    {
     "data": {
      "text/html": [
       "\n",
       "                <audio  controls=\"controls\" autoplay=\"autoplay\">\n",
       "                    <source src=\"data:audio/x-wav;base64,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\" type=\"audio/x-wav\" />\n",
       "                    Your browser does not support the audio element.\n",
       "                </audio>\n",
       "              "
      ],
      "text/plain": [
       "<IPython.lib.display.Audio object>"
      ]
     },
     "metadata": {},
     "output_type": "display_data"
    },
    {
     "name": "stdin",
     "output_type": "stream",
     "text": [
      "User:  @websearch, what about you\n"
     ]
    },
    {
     "name": "stdout",
     "output_type": "stream",
     "text": [
      "{'supervisor': {'next': 'FINISH'}}\n"
     ]
    },
    {
     "name": "stdin",
     "output_type": "stream",
     "text": [
      "User:  @websearch, what is the best restaurant\n"
     ]
    },
    {
     "name": "stdout",
     "output_type": "stream",
     "text": [
      "{'supervisor': {'next': 'FINISH'}}\n"
     ]
    },
    {
     "name": "stdin",
     "output_type": "stream",
     "text": [
      "User:  @websearch, who are you\n"
     ]
    },
    {
     "name": "stdout",
     "output_type": "stream",
     "text": [
      "{'supervisor': {'next': 'FINISH'}}\n"
     ]
    },
    {
     "name": "stdin",
     "output_type": "stream",
     "text": [
      "User:  q\n"
     ]
    },
    {
     "name": "stdout",
     "output_type": "stream",
     "text": [
      "Goodbye!\n"
     ]
    }
   ],
   "source": [
    "# Run the synchronous agent\n",
    "print(\"Running the synchronous agent:\")\n",
    "while True:\n",
    "    user_input = input(\"User: \")\n",
    "    if user_input.lower() in [\"quit\", \"exit\", \"q\"]:\n",
    "        print(\"Goodbye!\")\n",
    "        break\n",
    "    try:\n",
    "        stream_graph_updates_sync(user_input, graph_sync, config_sync)\n",
    "    except Exception as e:\n",
    "        print(f\"Error during synchronous update: {e}\")"
   ]
  },
  {
   "cell_type": "markdown",
   "id": "15a17c25-7a0c-4d25-8901-cc582cac89bf",
   "metadata": {},
   "source": [
    "### Construct the ASYNC graph of our application"
   ]
  },
  {
   "cell_type": "code",
   "execution_count": 42,
   "id": "a0b5e84c-15e0-4057-b53b-f31fd354cc07",
   "metadata": {
    "tags": []
   },
   "outputs": [
    {
     "data": {
      "text/plain": [
       "<langgraph.graph.state.StateGraph at 0x7f3e227af3e0>"
      ]
     },
     "execution_count": 42,
     "metadata": {},
     "output_type": "execute_result"
    }
   ],
   "source": [
    "docsearch_agent_node_async = functools.partial(agent_node_async, agent=docsearch_agent, name=\"DocSearchAgent\")\n",
    "sqlsearch_agent_node_async = functools.partial(agent_node_async, agent=sqlsearch_agent, name=\"SQLSearchAgent\")\n",
    "csvsearch_agent_node_async = functools.partial(agent_node_async, agent=csvsearch_agent, name=\"CSVSearchAgent\")\n",
    "websearch_agent_node_async = functools.partial(agent_node_async, agent=websearch_agent, name=\"WebSearchAgent\")\n",
    "apisearch_agent_node_async = functools.partial(agent_node_async, agent=apisearch_agent, name=\"APISearchAgent\")\n",
    "\n",
    "workflow_async = StateGraph(AgentState)\n",
    "workflow_async.add_node(\"DocSearchAgent\", docsearch_agent_node_async)\n",
    "workflow_async.add_node(\"SQLSearchAgent\", sqlsearch_agent_node_async)\n",
    "workflow_async.add_node(\"CSVSearchAgent\", csvsearch_agent_node_async)\n",
    "workflow_async.add_node(\"WebSearchAgent\", websearch_agent_node_async)\n",
    "workflow_async.add_node(\"APISearchAgent\", apisearch_agent_node_async)\n",
    "workflow_async.add_node(\"supervisor\", supervisor_node_async)\n",
    "\n",
    "# Connect the edges from each member to the supervisor\n",
    "for member in members:\n",
    "    # We want our workers to ALWAYS \"report back\" to the supervisor when done\n",
    "    workflow_async.add_edge(member, \"supervisor\")\n",
    "\n",
    "# Connect the supervisor to the members with a condition\n",
    "conditional_map = {k: k for k in members}\n",
    "conditional_map[\"FINISH\"] = END\n",
    "# This lambda function acts as the condition that extracts the \"next\" field from the current state. \n",
    "# The add_conditional_edges method then uses this output to check the conditional_map and route the workflow accordingly.\n",
    "workflow_async.add_conditional_edges(\"supervisor\", lambda x: x[\"next\"], conditional_map)\n",
    "\n",
    "# Finally, add entrypoint\n",
    "workflow_async.add_edge(START, \"supervisor\")"
   ]
  },
  {
   "cell_type": "markdown",
   "id": "4904a07d-b857-45d7-86ac-c7cade3e9080",
   "metadata": {},
   "source": [
    "### Let's talk to our GPT Smart Search Engine ASYNC chat bot now"
   ]
  },
  {
   "cell_type": "code",
   "execution_count": null,
   "id": "fb938e5b-58f8-4cec-a91c-9d00e90ce7a9",
   "metadata": {
    "tags": []
   },
   "outputs": [],
   "source": [
    "# We can as well avoid the .setup() call of the cosmosDB by using the with statement as below\n",
    "async def run_async_agent():\n",
    "    async with AsyncCosmosDBSaver(\n",
    "        endpoint=os.environ[\"AZURE_COSMOSDB_ENDPOINT\"],\n",
    "        key=os.environ[\"AZURE_COSMOSDB_KEY\"],\n",
    "        database_name=os.environ[\"AZURE_COSMOSDB_NAME\"],\n",
    "        container_name=os.environ[\"AZURE_COSMOSDB_CONTAINER_NAME\"],\n",
    "        serde=JsonPlusSerializer(),\n",
    "    ) as checkpointer_async:\n",
    "        # Compile the asynchronous graph\n",
    "        graph_async = workflow_async.compile(checkpointer=checkpointer_async)\n",
    "        # Define a test thread_id to store in the persistent storage\n",
    "        config_async = {\"configurable\": {\"thread_id\": str(uuid.uuid4())}}\n",
    "\n",
    "\n",
    "\n",
    "        print(\"\\nRunning the asynchronous agent:\")\n",
    "        while True:\n",
    "            user_input = input(\"User: \")\n",
    "            if user_input.lower() in [\"quit\", \"exit\", \"q\"]:\n",
    "                print(\"Goodbye!\")\n",
    "                break\n",
    "            await stream_graph_updates_async(user_input, graph_async ,config_async)\n",
    "\n",
    "# Run the asynchronous agent\n",
    "await run_async_agent()"
   ]
  },
  {
   "cell_type": "markdown",
   "id": "96a54fc7-ec9b-4ced-9e17-c65d00aa97f6",
   "metadata": {},
   "source": [
    "# Summary"
   ]
  },
  {
   "cell_type": "markdown",
   "id": "9c48d899-bd7b-4081-a656-e8d9e597220d",
   "metadata": {},
   "source": [
    "Great!, We just built the GPT Smart Search Engine! a Multi-Agentic architecture with persistent memory!.\n",
    "\n",
    "**Note:** To build the apps we built a library `commom/graph.py` that contains all the functions on this notebook that builds an async graph.\n",
    "\n",
    "\n",
    "We can have many tools or subagents to accomplish different tasks, including connecting to APIs, dealing with File Systems, and even using Humans as Tools. For more reference see [HERE](https://python.langchain.com/docs/integrations/tools/)"
   ]
  },
  {
   "cell_type": "markdown",
   "id": "9969ed7e-3680-4853-b750-675a42d3b9ea",
   "metadata": {},
   "source": [
    "# NEXT\n",
    "It is time now to use all the functions and prompts build so far and build a Web application.\n",
    "The Next notebook will guide you on how to build:\n",
    "\n",
    "1) A Bot API Backend\n",
    "2) A Frontend UI with a Search and Webchat interfaces"
   ]
  },
  {
   "cell_type": "code",
   "execution_count": null,
   "id": "64e99872-b01b-4e1a-9d41-04f70e22bbf4",
   "metadata": {},
   "outputs": [],
   "source": []
  }
 ],
 "metadata": {
  "kernelspec": {
   "display_name": "GPTSearch2 (Python 3.12)",
   "language": "python",
   "name": "gptsearch2"
  },
  "language_info": {
   "codemirror_mode": {
    "name": "ipython",
    "version": 3
   },
   "file_extension": ".py",
   "mimetype": "text/x-python",
   "name": "python",
   "nbconvert_exporter": "python",
   "pygments_lexer": "ipython3",
   "version": "3.12.8"
  }
 },
 "nbformat": 4,
 "nbformat_minor": 5
}
